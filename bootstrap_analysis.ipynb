{
 "cells": [
  {
   "cell_type": "code",
   "execution_count": 14,
   "id": "7355f1a3",
   "metadata": {},
   "outputs": [],
   "source": [
    "import numpy as np\n",
    "import pandas as pd\n",
    "from causallearn.utils.GraphUtils import GraphUtils\n",
    "from causallearn.utils.cit import fisherz\n",
    "from sklearn.utils import resample\n",
    "from collections import defaultdict\n",
    "from causallearn.search.ScoreBased.GES import ges\n",
    "from causallearn.search.ConstraintBased.PC import pc\n",
    "from causallearn.search.ConstraintBased.FCI import fci\n"
   ]
  },
  {
   "cell_type": "code",
   "execution_count": 4,
   "id": "ad2de1d2",
   "metadata": {},
   "outputs": [],
   "source": [
    "# Your dataset\n",
    "data_duration = pd.read_excel(\"processed_duration.xlsx\") \n",
    "data_array_duration = data_duration.values"
   ]
  },
  {
   "cell_type": "code",
   "execution_count": 19,
   "id": "4e195fb3",
   "metadata": {},
   "outputs": [
    {
     "name": "stderr",
     "output_type": "stream",
     "text": [
      "Depth=0, working on node 9: 100%|██████████| 10/10 [00:00<00:00, 454.52it/s]\n",
      "Depth=0, working on node 9: 100%|██████████| 10/10 [00:00<00:00, 449.81it/s]\n"
     ]
    },
    {
     "name": "stdout",
     "output_type": "stream",
     "text": [
      "X9 --> X6\n"
     ]
    },
    {
     "name": "stderr",
     "output_type": "stream",
     "text": [
      "Depth=0, working on node 9: 100%|██████████| 10/10 [00:00<00:00, 587.97it/s]\n"
     ]
    },
    {
     "name": "stdout",
     "output_type": "stream",
     "text": [
      "X6 --> X2\n"
     ]
    },
    {
     "name": "stderr",
     "output_type": "stream",
     "text": [
      "Depth=0, working on node 9: 100%|██████████| 10/10 [00:00<00:00, 470.95it/s]\n"
     ]
    },
    {
     "name": "stdout",
     "output_type": "stream",
     "text": [
      "X1 --> X5\n",
      "X9 --> X6\n"
     ]
    },
    {
     "name": "stderr",
     "output_type": "stream",
     "text": [
      "Depth=0, working on node 9: 100%|██████████| 10/10 [00:00<00:00, 500.75it/s]\n",
      "Depth=0, working on node 9: 100%|██████████| 10/10 [00:00<00:00, 555.43it/s]\n"
     ]
    },
    {
     "name": "stdout",
     "output_type": "stream",
     "text": [
      "X5 --> X2\n",
      "X2 --> X8\n",
      "X9 --> X2\n",
      "X7 --> X6\n"
     ]
    },
    {
     "name": "stderr",
     "output_type": "stream",
     "text": [
      "Depth=0, working on node 9: 100%|██████████| 10/10 [00:00<00:00, 555.35it/s]\n",
      "Depth=0, working on node 9: 100%|██████████| 10/10 [00:00<00:00, 602.75it/s]\n"
     ]
    },
    {
     "name": "stdout",
     "output_type": "stream",
     "text": [
      "X9 --> X6\n"
     ]
    },
    {
     "name": "stderr",
     "output_type": "stream",
     "text": [
      "Depth=0, working on node 9: 100%|██████████| 10/10 [00:00<00:00, 792.17it/s]\n",
      "Depth=0, working on node 9: 100%|██████████| 10/10 [00:00<00:00, 666.41it/s]\n"
     ]
    },
    {
     "name": "stdout",
     "output_type": "stream",
     "text": [
      "X2 --> X3\n",
      "X7 --> X3\n"
     ]
    },
    {
     "name": "stderr",
     "output_type": "stream",
     "text": [
      "Depth=0, working on node 9: 100%|██████████| 10/10 [00:00<00:00, 660.23it/s]\n",
      "Depth=0, working on node 9: 100%|██████████| 10/10 [00:00<00:00, 666.01it/s]\n"
     ]
    },
    {
     "name": "stdout",
     "output_type": "stream",
     "text": [
      "X9 --> X6\n"
     ]
    },
    {
     "name": "stderr",
     "output_type": "stream",
     "text": [
      "Depth=0, working on node 9: 100%|██████████| 10/10 [00:00<00:00, 666.57it/s]\n"
     ]
    },
    {
     "name": "stdout",
     "output_type": "stream",
     "text": [
      "X10 --> X6\n"
     ]
    },
    {
     "name": "stderr",
     "output_type": "stream",
     "text": [
      "Depth=0, working on node 9: 100%|██████████| 10/10 [00:00<00:00, 454.54it/s]\n",
      "Depth=0, working on node 9: 100%|██████████| 10/10 [00:00<00:00, 666.60it/s]\n",
      "Depth=0, working on node 9: 100%|██████████| 10/10 [00:00<00:00, 588.92it/s]\n"
     ]
    },
    {
     "name": "stdout",
     "output_type": "stream",
     "text": [
      "X7 --> X6\n",
      "X10 --> X6\n"
     ]
    },
    {
     "name": "stderr",
     "output_type": "stream",
     "text": [
      "Depth=0, working on node 9: 100%|██████████| 10/10 [00:00<00:00, 670.24it/s]\n",
      "Depth=0, working on node 9: 100%|██████████| 10/10 [00:00<00:00, 625.06it/s]"
     ]
    },
    {
     "name": "stdout",
     "output_type": "stream",
     "text": [
      "X7 --> X6"
     ]
    },
    {
     "name": "stderr",
     "output_type": "stream",
     "text": [
      "\n"
     ]
    },
    {
     "name": "stdout",
     "output_type": "stream",
     "text": [
      "\n"
     ]
    },
    {
     "name": "stderr",
     "output_type": "stream",
     "text": [
      "Depth=0, working on node 9: 100%|██████████| 10/10 [00:00<00:00, 626.85it/s]\n"
     ]
    },
    {
     "name": "stdout",
     "output_type": "stream",
     "text": [
      "X7 --> X6\n",
      "X9 --> X6\n"
     ]
    },
    {
     "name": "stderr",
     "output_type": "stream",
     "text": [
      "Depth=0, working on node 9: 100%|██████████| 10/10 [00:00<00:00, 584.29it/s]\n"
     ]
    },
    {
     "name": "stdout",
     "output_type": "stream",
     "text": [
      "X1 --> X5\n",
      "X7 --> X6\n",
      "X9 --> X6\n"
     ]
    },
    {
     "name": "stderr",
     "output_type": "stream",
     "text": [
      "Depth=0, working on node 9: 100%|██████████| 10/10 [00:00<00:00, 356.29it/s]\n"
     ]
    },
    {
     "name": "stdout",
     "output_type": "stream",
     "text": [
      "X9 --> X6\n"
     ]
    },
    {
     "name": "stderr",
     "output_type": "stream",
     "text": [
      "Depth=0, working on node 9: 100%|██████████| 10/10 [00:00<00:00, 661.83it/s]\n",
      "Depth=0, working on node 9: 100%|██████████| 10/10 [00:00<00:00, 587.82it/s]\n",
      "Depth=0, working on node 9: 100%|██████████| 10/10 [00:00<00:00, 557.15it/s]\n"
     ]
    },
    {
     "name": "stdout",
     "output_type": "stream",
     "text": [
      "X1 --> X6\n"
     ]
    },
    {
     "name": "stderr",
     "output_type": "stream",
     "text": [
      "Depth=0, working on node 9: 100%|██████████| 10/10 [00:00<00:00, 628.30it/s]\n"
     ]
    },
    {
     "name": "stdout",
     "output_type": "stream",
     "text": [
      "X7 --> X6\n",
      "X9 --> X6\n"
     ]
    },
    {
     "name": "stderr",
     "output_type": "stream",
     "text": [
      "Depth=0, working on node 9: 100%|██████████| 10/10 [00:00<00:00, 588.39it/s]\n"
     ]
    },
    {
     "name": "stdout",
     "output_type": "stream",
     "text": [
      "X9 --> X6\n"
     ]
    },
    {
     "name": "stderr",
     "output_type": "stream",
     "text": [
      "Depth=0, working on node 9: 100%|██████████| 10/10 [00:00<00:00, 624.95it/s]\n"
     ]
    },
    {
     "name": "stdout",
     "output_type": "stream",
     "text": [
      "X4 --> X8\n",
      "X5 --> X8\n"
     ]
    },
    {
     "name": "stderr",
     "output_type": "stream",
     "text": [
      "Depth=0, working on node 9: 100%|██████████| 10/10 [00:00<00:00, 579.75it/s]"
     ]
    },
    {
     "name": "stdout",
     "output_type": "stream",
     "text": [
      "X7 --> X6\n"
     ]
    },
    {
     "name": "stderr",
     "output_type": "stream",
     "text": [
      "\n",
      "Depth=0, working on node 9: 100%|██████████| 10/10 [00:00<00:00, 499.76it/s]\n"
     ]
    },
    {
     "name": "stdout",
     "output_type": "stream",
     "text": [
      "X7 --> X6\n"
     ]
    },
    {
     "name": "stderr",
     "output_type": "stream",
     "text": [
      "Depth=0, working on node 9: 100%|██████████| 10/10 [00:00<00:00, 524.51it/s]\n",
      "Depth=0, working on node 9: 100%|██████████| 10/10 [00:00<00:00, 632.24it/s]\n",
      "Depth=0, working on node 9: 100%|██████████| 10/10 [00:00<00:00, 601.47it/s]\n",
      "Depth=0, working on node 9: 100%|██████████| 10/10 [00:00<00:00, 624.70it/s]\n"
     ]
    },
    {
     "name": "stdout",
     "output_type": "stream",
     "text": [
      "X9 --> X6\n"
     ]
    },
    {
     "name": "stderr",
     "output_type": "stream",
     "text": [
      "Depth=0, working on node 9: 100%|██████████| 10/10 [00:00<00:00, 570.43it/s]\n",
      "Depth=0, working on node 9: 100%|██████████| 10/10 [00:00<00:00, 588.29it/s]\n"
     ]
    },
    {
     "name": "stdout",
     "output_type": "stream",
     "text": [
      "X7 --> X6\n"
     ]
    },
    {
     "name": "stderr",
     "output_type": "stream",
     "text": [
      "Depth=0, working on node 9: 100%|██████████| 10/10 [00:00<00:00, 575.57it/s]\n"
     ]
    },
    {
     "name": "stdout",
     "output_type": "stream",
     "text": [
      "X5 --> X8\n",
      "X9 --> X6\n"
     ]
    },
    {
     "name": "stderr",
     "output_type": "stream",
     "text": [
      "Depth=0, working on node 9: 100%|██████████| 10/10 [00:00<00:00, 580.98it/s]\n"
     ]
    },
    {
     "name": "stdout",
     "output_type": "stream",
     "text": [
      "X9 --> X6\n"
     ]
    },
    {
     "name": "stderr",
     "output_type": "stream",
     "text": [
      "Depth=0, working on node 9: 100%|██████████| 10/10 [00:00<00:00, 628.83it/s]\n",
      "Depth=0, working on node 9: 100%|██████████| 10/10 [00:00<00:00, 624.67it/s]\n",
      "Depth=0, working on node 9: 100%|██████████| 10/10 [00:00<00:00, 529.40it/s]\n"
     ]
    },
    {
     "name": "stdout",
     "output_type": "stream",
     "text": [
      "X9 --> X6\n"
     ]
    },
    {
     "name": "stderr",
     "output_type": "stream",
     "text": [
      "Depth=0, working on node 9: 100%|██████████| 10/10 [00:00<00:00, 526.06it/s]\n"
     ]
    },
    {
     "name": "stdout",
     "output_type": "stream",
     "text": [
      "X7 --> X6\n"
     ]
    },
    {
     "name": "stderr",
     "output_type": "stream",
     "text": [
      "Depth=0, working on node 9: 100%|██████████| 10/10 [00:00<00:00, 645.53it/s]\n",
      "Depth=0, working on node 9: 100%|██████████| 10/10 [00:00<00:00, 666.76it/s]\n"
     ]
    },
    {
     "name": "stdout",
     "output_type": "stream",
     "text": [
      "X9 --> X1\n",
      "X2 --> X8\n",
      "X4 --> X8\n",
      "X9 --> X6\n"
     ]
    },
    {
     "name": "stderr",
     "output_type": "stream",
     "text": [
      "Depth=0, working on node 9: 100%|██████████| 10/10 [00:00<00:00, 555.51it/s]\n"
     ]
    },
    {
     "name": "stdout",
     "output_type": "stream",
     "text": [
      "X9 --> X6\n"
     ]
    },
    {
     "name": "stderr",
     "output_type": "stream",
     "text": [
      "Depth=0, working on node 9: 100%|██████████| 10/10 [00:00<00:00, 861.47it/s]\n",
      "Depth=0, working on node 9: 100%|██████████| 10/10 [00:00<00:00, 734.49it/s]\n"
     ]
    },
    {
     "name": "stdout",
     "output_type": "stream",
     "text": [
      "X7 --> X6\n",
      "X10 --> X6\n"
     ]
    },
    {
     "name": "stderr",
     "output_type": "stream",
     "text": [
      "Depth=0, working on node 9: 100%|██████████| 10/10 [00:00<00:00, 588.26it/s]\n"
     ]
    },
    {
     "name": "stdout",
     "output_type": "stream",
     "text": [
      "X9 --> X6\n"
     ]
    },
    {
     "name": "stderr",
     "output_type": "stream",
     "text": [
      "Depth=0, working on node 9: 100%|██████████| 10/10 [00:00<00:00, 541.82it/s]\n"
     ]
    },
    {
     "name": "stdout",
     "output_type": "stream",
     "text": [
      "X7 --> X6\n"
     ]
    },
    {
     "name": "stderr",
     "output_type": "stream",
     "text": [
      "Depth=0, working on node 9: 100%|██████████| 10/10 [00:00<00:00, 555.56it/s]\n"
     ]
    },
    {
     "name": "stdout",
     "output_type": "stream",
     "text": [
      "X5 --> X8\n"
     ]
    },
    {
     "name": "stderr",
     "output_type": "stream",
     "text": [
      "Depth=0, working on node 9: 100%|██████████| 10/10 [00:00<00:00, 566.75it/s]\n"
     ]
    },
    {
     "name": "stdout",
     "output_type": "stream",
     "text": [
      "X5 --> X8\n"
     ]
    },
    {
     "name": "stderr",
     "output_type": "stream",
     "text": [
      "Depth=0, working on node 9: 100%|██████████| 10/10 [00:00<00:00, 624.93it/s]\n"
     ]
    },
    {
     "name": "stdout",
     "output_type": "stream",
     "text": [
      "X10 --> X6\n"
     ]
    },
    {
     "name": "stderr",
     "output_type": "stream",
     "text": [
      "Depth=0, working on node 9: 100%|██████████| 10/10 [00:00<00:00, 528.04it/s]\n"
     ]
    },
    {
     "name": "stdout",
     "output_type": "stream",
     "text": [
      "X9 --> X2\n",
      "X4 --> X3\n"
     ]
    },
    {
     "name": "stderr",
     "output_type": "stream",
     "text": [
      "Depth=0, working on node 9: 100%|██████████| 10/10 [00:00<00:00, 524.79it/s]\n",
      "Depth=0, working on node 9: 100%|██████████| 10/10 [00:00<00:00, 587.99it/s]\n"
     ]
    },
    {
     "name": "stdout",
     "output_type": "stream",
     "text": [
      "X7 --> X6\n"
     ]
    },
    {
     "name": "stderr",
     "output_type": "stream",
     "text": [
      "Depth=0, working on node 9: 100%|██████████| 10/10 [00:00<00:00, 665.83it/s]\n",
      "Depth=0, working on node 9: 100%|██████████| 10/10 [00:00<00:00, 833.34it/s]\n",
      "Depth=0, working on node 9: 100%|██████████| 10/10 [00:00<00:00, 666.13it/s]\n",
      "Depth=0, working on node 9: 100%|██████████| 10/10 [00:00<00:00, 610.85it/s]\n",
      "Depth=0, working on node 9: 100%|██████████| 10/10 [00:00<00:00, 540.09it/s]\n"
     ]
    },
    {
     "name": "stdout",
     "output_type": "stream",
     "text": [
      "X9 --> X1\n"
     ]
    },
    {
     "name": "stderr",
     "output_type": "stream",
     "text": [
      "Depth=0, working on node 9: 100%|██████████| 10/10 [00:00<00:00, 610.77it/s]\n"
     ]
    },
    {
     "name": "stdout",
     "output_type": "stream",
     "text": [
      "X2 --> X8\n",
      "X9 --> X6\n"
     ]
    },
    {
     "name": "stderr",
     "output_type": "stream",
     "text": [
      "Depth=0, working on node 9: 100%|██████████| 10/10 [00:00<00:00, 666.29it/s]\n"
     ]
    },
    {
     "name": "stdout",
     "output_type": "stream",
     "text": [
      "X7 --> X6\n"
     ]
    },
    {
     "name": "stderr",
     "output_type": "stream",
     "text": [
      "Depth=0, working on node 9: 100%|██████████| 10/10 [00:00<00:00, 551.46it/s]\n",
      "Depth=0, working on node 9: 100%|██████████| 10/10 [00:00<00:00, 632.25it/s]\n",
      "Depth=0, working on node 9: 100%|██████████| 10/10 [00:00<00:00, 667.61it/s]\n"
     ]
    },
    {
     "name": "stdout",
     "output_type": "stream",
     "text": [
      "X5 --> X8\n",
      "X9 --> X6\n"
     ]
    },
    {
     "name": "stderr",
     "output_type": "stream",
     "text": [
      "Depth=0, working on node 9: 100%|██████████| 10/10 [00:00<00:00, 666.39it/s]\n"
     ]
    },
    {
     "name": "stdout",
     "output_type": "stream",
     "text": [
      "X4 --> X3\n",
      "X5 --> X8\n"
     ]
    },
    {
     "name": "stderr",
     "output_type": "stream",
     "text": [
      "Depth=0, working on node 9: 100%|██████████| 10/10 [00:00<00:00, 450.61it/s]\n"
     ]
    },
    {
     "name": "stdout",
     "output_type": "stream",
     "text": [
      "X9 --> X6\n"
     ]
    },
    {
     "name": "stderr",
     "output_type": "stream",
     "text": [
      "Depth=0, working on node 9: 100%|██████████| 10/10 [00:00<00:00, 671.02it/s]\n"
     ]
    },
    {
     "name": "stdout",
     "output_type": "stream",
     "text": [
      "X9 --> X1\n",
      "X9 --> X6\n"
     ]
    },
    {
     "name": "stderr",
     "output_type": "stream",
     "text": [
      "Depth=0, working on node 9: 100%|██████████| 10/10 [00:00<00:00, 647.93it/s]\n",
      "Depth=0, working on node 9: 100%|██████████| 10/10 [00:00<00:00, 666.83it/s]\n"
     ]
    },
    {
     "name": "stdout",
     "output_type": "stream",
     "text": [
      "X7 --> X6\n",
      "X9 --> X6\n"
     ]
    },
    {
     "name": "stderr",
     "output_type": "stream",
     "text": [
      "Depth=0, working on node 9: 100%|██████████| 10/10 [00:00<00:00, 664.61it/s]\n",
      "Depth=0, working on node 9: 100%|██████████| 10/10 [00:00<00:00, 658.55it/s]\n"
     ]
    },
    {
     "name": "stdout",
     "output_type": "stream",
     "text": [
      "X1 --> X5\n",
      "X7 --> X6\n"
     ]
    },
    {
     "name": "stderr",
     "output_type": "stream",
     "text": [
      "Depth=0, working on node 9: 100%|██████████| 10/10 [00:00<00:00, 667.05it/s]\n"
     ]
    },
    {
     "name": "stdout",
     "output_type": "stream",
     "text": [
      "X9 --> X6\n"
     ]
    },
    {
     "name": "stderr",
     "output_type": "stream",
     "text": [
      "Depth=0, working on node 9: 100%|██████████| 10/10 [00:00<00:00, 691.32it/s]\n"
     ]
    },
    {
     "name": "stdout",
     "output_type": "stream",
     "text": [
      "X7 --> X6\n"
     ]
    },
    {
     "name": "stderr",
     "output_type": "stream",
     "text": [
      "Depth=0, working on node 9: 100%|██████████| 10/10 [00:00<00:00, 571.38it/s]\n"
     ]
    },
    {
     "name": "stdout",
     "output_type": "stream",
     "text": [
      "X9 --> X6\n"
     ]
    },
    {
     "name": "stderr",
     "output_type": "stream",
     "text": [
      "Depth=0, working on node 9: 100%|██████████| 10/10 [00:00<00:00, 666.48it/s]\n"
     ]
    },
    {
     "name": "stdout",
     "output_type": "stream",
     "text": [
      "X9 --> X6\n"
     ]
    },
    {
     "name": "stderr",
     "output_type": "stream",
     "text": [
      "Depth=0, working on node 9: 100%|██████████| 10/10 [00:00<00:00, 714.20it/s]\n",
      "Depth=0, working on node 9: 100%|██████████| 10/10 [00:00<00:00, 666.15it/s]\n",
      "Depth=0, working on node 9: 100%|██████████| 10/10 [00:00<00:00, 637.50it/s]\n"
     ]
    },
    {
     "name": "stdout",
     "output_type": "stream",
     "text": [
      "X9 --> X6\n"
     ]
    },
    {
     "name": "stderr",
     "output_type": "stream",
     "text": [
      "Depth=0, working on node 9: 100%|██████████| 10/10 [00:00<00:00, 684.30it/s]\n"
     ]
    },
    {
     "name": "stdout",
     "output_type": "stream",
     "text": [
      "X9 --> X6\n"
     ]
    },
    {
     "name": "stderr",
     "output_type": "stream",
     "text": [
      "Depth=0, working on node 9: 100%|██████████| 10/10 [00:00<00:00, 639.28it/s]\n",
      "Depth=0, working on node 9: 100%|██████████| 10/10 [00:00<00:00, 571.31it/s]\n",
      "Depth=0, working on node 9: 100%|██████████| 10/10 [00:00<00:00, 624.08it/s]\n"
     ]
    },
    {
     "name": "stdout",
     "output_type": "stream",
     "text": [
      "X5 --> X8\n",
      "X7 --> X6\n"
     ]
    },
    {
     "name": "stderr",
     "output_type": "stream",
     "text": [
      "Depth=0, working on node 9: 100%|██████████| 10/10 [00:00<00:00, 563.03it/s]\n",
      "Depth=0, working on node 9: 100%|██████████| 10/10 [00:00<00:00, 666.38it/s]\n"
     ]
    },
    {
     "name": "stdout",
     "output_type": "stream",
     "text": [
      "X2 --> X8\n",
      "X7 --> X6\n"
     ]
    },
    {
     "name": "stderr",
     "output_type": "stream",
     "text": [
      "Depth=0, working on node 9: 100%|██████████| 10/10 [00:00<00:00, 594.00it/s]\n"
     ]
    },
    {
     "name": "stdout",
     "output_type": "stream",
     "text": [
      "X9 --> X2\n",
      "X7 --> X6\n"
     ]
    },
    {
     "name": "stderr",
     "output_type": "stream",
     "text": [
      "Depth=0, working on node 9: 100%|██████████| 10/10 [00:00<00:00, 699.38it/s]\n"
     ]
    },
    {
     "name": "stdout",
     "output_type": "stream",
     "text": [
      "X9 --> X1\n"
     ]
    },
    {
     "name": "stderr",
     "output_type": "stream",
     "text": [
      "Depth=0, working on node 9: 100%|██████████| 10/10 [00:00<00:00, 615.07it/s]"
     ]
    },
    {
     "name": "stdout",
     "output_type": "stream",
     "text": [
      "X7 --> X6\n"
     ]
    },
    {
     "name": "stderr",
     "output_type": "stream",
     "text": [
      "\n",
      "Depth=0, working on node 9: 100%|██████████| 10/10 [00:00<00:00, 499.70it/s]\n",
      "Depth=0, working on node 9: 100%|██████████| 10/10 [00:00<00:00, 617.11it/s]\n"
     ]
    },
    {
     "name": "stdout",
     "output_type": "stream",
     "text": [
      "X9 --> X6\n"
     ]
    },
    {
     "name": "stderr",
     "output_type": "stream",
     "text": [
      "Depth=0, working on node 9: 100%|██████████| 10/10 [00:00<00:00, 688.46it/s]\n"
     ]
    },
    {
     "name": "stdout",
     "output_type": "stream",
     "text": [
      "X9 --> X6\n"
     ]
    },
    {
     "name": "stderr",
     "output_type": "stream",
     "text": [
      "Depth=0, working on node 9: 100%|██████████| 10/10 [00:00<00:00, 833.13it/s]\n"
     ]
    },
    {
     "name": "stdout",
     "output_type": "stream",
     "text": [
      "X2 --> X9\n"
     ]
    },
    {
     "name": "stderr",
     "output_type": "stream",
     "text": [
      "Depth=0, working on node 9: 100%|██████████| 10/10 [00:00<00:00, 623.92it/s]\n"
     ]
    },
    {
     "name": "stdout",
     "output_type": "stream",
     "text": [
      "X4 --> X3\n",
      "X8 --> X3\n",
      "X9 --> X6\n"
     ]
    },
    {
     "name": "stderr",
     "output_type": "stream",
     "text": [
      "Depth=0, working on node 9: 100%|██████████| 10/10 [00:00<00:00, 644.21it/s]\n"
     ]
    },
    {
     "name": "stdout",
     "output_type": "stream",
     "text": [
      "X2 --> X8\n",
      "X9 --> X6\n"
     ]
    },
    {
     "name": "stderr",
     "output_type": "stream",
     "text": [
      "Depth=0, working on node 9: 100%|██████████| 10/10 [00:00<00:00, 665.83it/s]\n"
     ]
    },
    {
     "name": "stdout",
     "output_type": "stream",
     "text": [
      "X4 --> X8\n",
      "X7 --> X6\n",
      "X9 --> X6\n"
     ]
    },
    {
     "name": "stderr",
     "output_type": "stream",
     "text": [
      "Depth=0, working on node 9: 100%|██████████| 10/10 [00:00<00:00, 624.79it/s]\n",
      "Depth=0, working on node 9: 100%|██████████| 10/10 [00:00<00:00, 642.82it/s]\n",
      "Depth=0, working on node 9: 100%|██████████| 10/10 [00:00<00:00, 587.81it/s]\n",
      "Depth=0, working on node 9: 100%|██████████| 10/10 [00:00<00:00, 665.92it/s]\n"
     ]
    },
    {
     "name": "stdout",
     "output_type": "stream",
     "text": [
      "X9 --> X6\n"
     ]
    },
    {
     "name": "stderr",
     "output_type": "stream",
     "text": [
      "Depth=0, working on node 9: 100%|██████████| 10/10 [00:00<00:00, 570.51it/s]\n"
     ]
    },
    {
     "name": "stdout",
     "output_type": "stream",
     "text": [
      "X9 --> X6\n"
     ]
    },
    {
     "name": "stderr",
     "output_type": "stream",
     "text": [
      "Depth=0, working on node 9: 100%|██████████| 10/10 [00:00<00:00, 620.47it/s]\n"
     ]
    },
    {
     "name": "stdout",
     "output_type": "stream",
     "text": [
      "X9 --> X6\n",
      "\n",
      "Top edges across bootstraps (PC algorithm):\n",
      "============================================================\n",
      "Node1           Node2           End1       End2       Count     \n",
      "------------------------------------------------------------\n",
      "X2              X3              ARROW      ARROW      99        \n",
      "X2              X5              ARROW      ARROW      99        \n",
      "X5              X7              ARROW      ARROW      99        \n",
      "X3              X7              ARROW      ARROW      98        \n",
      "X3              X10             ARROW      ARROW      98        \n",
      "X4              X5              ARROW      ARROW      98        \n",
      "X2              X6              ARROW      ARROW      97        \n",
      "X3              X8              ARROW      ARROW      96        \n",
      "X3              X4              ARROW      ARROW      95        \n",
      "X5              X8              ARROW      ARROW      90        \n",
      "X9              X10             ARROW      ARROW      85        \n",
      "X2              X9              ARROW      ARROW      81        \n",
      "X3              X6              ARROW      ARROW      81        \n",
      "X1              X6              ARROW      ARROW      77        \n",
      "X6              X7              ARROW      ARROW      75        \n",
      "X2              X8              ARROW      ARROW      73        \n",
      "X4              X6              ARROW      ARROW      50        \n",
      "X4              X8              ARROW      ARROW      46        \n",
      "X1              X8              ARROW      ARROW      42        \n",
      "X1              X10             ARROW      ARROW      38        \n",
      "X9              X6              TAIL       ARROW      35        \n",
      "X1              X5              ARROW      ARROW      34        \n",
      "X9              X6              CIRCLE     ARROW      30        \n",
      "X1              X2              ARROW      ARROW      30        \n",
      "X6              X9              ARROW      ARROW      23        \n",
      "X4              X8              CIRCLE     ARROW      23        \n",
      "X1              X2              CIRCLE     ARROW      22        \n",
      "X1              X9              ARROW      ARROW      22        \n",
      "X7              X6              TAIL       ARROW      22        \n",
      "X8              X2              CIRCLE     ARROW      22        \n",
      "X5              X10             ARROW      ARROW      18        \n",
      "X1              X6              CIRCLE     ARROW      17        \n",
      "X10             X6              CIRCLE     ARROW      14        \n",
      "X9              X2              CIRCLE     ARROW      14        \n",
      "X9              X10             CIRCLE     ARROW      14        \n",
      "X7              X2              CIRCLE     ARROW      12        \n",
      "X9              X1              CIRCLE     ARROW      10        \n",
      "X6              X10             ARROW      ARROW      9         \n",
      "X1              X7              ARROW      ARROW      9         \n",
      "X1              X9              CIRCLE     ARROW      8         \n",
      "X5              X8              TAIL       ARROW      7         \n",
      "X2              X8              TAIL       ARROW      5         \n",
      "X1              X6              TAIL       ARROW      5         \n",
      "X9              X2              TAIL       ARROW      4         \n",
      "X10             X6              TAIL       ARROW      4         \n",
      "X4              X8              TAIL       ARROW      4         \n",
      "X9              X1              TAIL       ARROW      4         \n",
      "X1              X5              TAIL       ARROW      3         \n",
      "X4              X3              TAIL       ARROW      3         \n",
      "X7              X6              CIRCLE     ARROW      2         \n",
      "X4              X5              CIRCLE     ARROW      2         \n",
      "X1              X4              ARROW      ARROW      2         \n",
      "X8              X5              CIRCLE     ARROW      2         \n",
      "X6              X2              CIRCLE     ARROW      2         \n",
      "X8              X3              TAIL       ARROW      2         \n",
      "X8              X10             ARROW      ARROW      2         \n",
      "X5              X6              ARROW      ARROW      2         \n",
      "X6              X2              TAIL       ARROW      1         \n",
      "X7              X2              TAIL       ARROW      1         \n",
      "X7              X3              CIRCLE     ARROW      1         \n",
      "X7              X5              CIRCLE     ARROW      1         \n",
      "X5              X2              TAIL       ARROW      1         \n",
      "X2              X3              TAIL       ARROW      1         \n",
      "X7              X3              TAIL       ARROW      1         \n",
      "X1              X7              CIRCLE     ARROW      1         \n",
      "X8              X3              CIRCLE     ARROW      1         \n",
      "X6              X8              ARROW      ARROW      1         \n",
      "X3              X8              CIRCLE     ARROW      1         \n",
      "X5              X8              CIRCLE     ARROW      1         \n",
      "X7              X8              ARROW      ARROW      1         \n",
      "X10             X1              CIRCLE     ARROW      1         \n",
      "X9              X10             CIRCLE     CIRCLE     1         \n",
      "X6              X1              CIRCLE     ARROW      1         \n",
      "X6              X7              CIRCLE     ARROW      1         \n",
      "X6              X9              CIRCLE     ARROW      1         \n",
      "X1              X2              TAIL       ARROW      1         \n",
      "X2              X9              TAIL       ARROW      1         \n"
     ]
    }
   ],
   "source": [
    "# Parameters\n",
    "n_bootstrap = 100\n",
    "alpha = 0.05\n",
    "fci_graphs = []\n",
    "\n",
    "# Run bootstrapped FCI\n",
    "for i in range(n_bootstrap):\n",
    "    # Resample with replacement\n",
    "    boot_data = resample(data_array_duration, replace=True)\n",
    "    # Run FCI\n",
    "    g_duration, edges_duration = fci(dataset=boot_data, independence_test_method=fisherz, alpha=alpha,verbose=False) \n",
    "    fci_graphs.append(g_duration)\n",
    "\n",
    "edge_counts = defaultdict(int)\n",
    "\n",
    "for g in fci_graphs:\n",
    "    for edge in g.get_graph_edges():\n",
    "        node1 = edge.node1\n",
    "        node2 = edge.node2\n",
    "        # Convert endpoints to string representations\n",
    "        endpoint1 = edge.get_endpoint1().name\n",
    "        endpoint2 = edge.get_endpoint2().name\n",
    "\n",
    "        key = (node1.get_name(), node2.get_name(), endpoint1, endpoint2)\n",
    "        edge_counts[key] += 1\n",
    "\n",
    "# Print the top edges\n",
    "print(\"\\nTop edges across bootstraps (PC algorithm):\")\n",
    "print(\"=\" * 60)\n",
    "print(\"{:<15} {:<15} {:<10} {:<10} {:<10}\".format(\"Node1\", \"Node2\", \"End1\", \"End2\", \"Count\"))\n",
    "print(\"-\" * 60)\n",
    "for edge, count in sorted(edge_counts.items(), key=lambda x: x[1], reverse=True):\n",
    "    node1, node2, end1, end2 = edge\n",
    "    print(\"{:<15} {:<15} {:<10} {:<10} {:<10}\".format(node1, node2, end1, end2, count))\n"
   ]
  },
  {
   "cell_type": "code",
   "execution_count": 13,
   "id": "662c591d",
   "metadata": {},
   "outputs": [
    {
     "name": "stdout",
     "output_type": "stream",
     "text": [
      "\n",
      "Top edges across bootstraps:\n",
      "============================================================\n",
      "Node1           Node2           End1       End2       Count     \n",
      "------------------------------------------------------------\n",
      "X2              X9              TAIL       ARROW      78        \n",
      "X4              X5              TAIL       ARROW      62        \n",
      "X1              X6              ARROW      TAIL       60        \n",
      "X10             X9              TAIL       ARROW      60        \n",
      "X5              X7              TAIL       ARROW      60        \n",
      "X2              X5              ARROW      TAIL       58        \n",
      "X6              X7              ARROW      TAIL       58        \n",
      "X2              X6              TAIL       ARROW      57        \n",
      "X3              X8              TAIL       ARROW      56        \n",
      "X5              X8              TAIL       ARROW      55        \n",
      "X2              X3              ARROW      TAIL       51        \n",
      "X2              X8              TAIL       ARROW      50        \n",
      "X3              X7              ARROW      TAIL       48        \n",
      "X5              X8              ARROW      TAIL       45        \n",
      "X2              X3              TAIL       ARROW      41        \n",
      "X3              X8              ARROW      TAIL       39        \n",
      "X2              X6              ARROW      TAIL       37        \n",
      "X2              X5              TAIL       ARROW      37        \n",
      "X4              X5              TAIL       TAIL       32        \n",
      "X6              X7              TAIL       ARROW      32        \n",
      "X3              X7              TAIL       ARROW      32        \n",
      "X10             X9              ARROW      TAIL       31        \n",
      "X4              X8              TAIL       ARROW      30        \n",
      "X5              X7              ARROW      TAIL       30        \n",
      "X6              X9              ARROW      TAIL       28        \n",
      "X2              X8              ARROW      TAIL       28        \n",
      "X10             X3              ARROW      TAIL       22        \n",
      "X2              X8              TAIL       TAIL       22        \n",
      "X2              X9              ARROW      TAIL       20        \n",
      "X10             X3              TAIL       ARROW      17        \n",
      "X3              X6              TAIL       ARROW      16        \n",
      "X1              X6              TAIL       TAIL       16        \n",
      "X6              X9              TAIL       ARROW      16        \n",
      "X3              X6              ARROW      TAIL       14        \n",
      "X3              X4              ARROW      TAIL       14        \n",
      "X1              X6              TAIL       ARROW      12        \n",
      "X3              X7              TAIL       TAIL       12        \n",
      "X5              X7              TAIL       TAIL       10        \n",
      "X6              X7              TAIL       TAIL       10        \n",
      "X10             X3              TAIL       TAIL       10        \n",
      "X10             X9              TAIL       TAIL       9         \n",
      "X2              X3              TAIL       TAIL       8         \n",
      "X4              X5              ARROW      TAIL       6         \n",
      "X2              X5              TAIL       TAIL       5         \n",
      "X3              X8              TAIL       TAIL       5         \n",
      "X1              X8              TAIL       ARROW      4         \n",
      "X3              X6              TAIL       TAIL       3         \n",
      "X1              X2              ARROW      TAIL       2         \n",
      "X1              X9              TAIL       ARROW      2         \n",
      "X1              X7              ARROW      TAIL       2         \n",
      "X2              X6              TAIL       TAIL       2         \n",
      "X2              X9              TAIL       TAIL       2         \n",
      "X3              X4              TAIL       ARROW      2         \n",
      "X1              X5              ARROW      TAIL       1         \n",
      "X10             X6              TAIL       ARROW      1         \n",
      "X10             X6              ARROW      TAIL       1         \n",
      "X4              X8              ARROW      TAIL       1         \n",
      "X1              X5              TAIL       ARROW      1         \n",
      "X1              X2              TAIL       ARROW      1         \n"
     ]
    }
   ],
   "source": [
    "# Number of bootstrap samples\n",
    "n_bootstrap_samples = 100\n",
    "\n",
    "# Collect edges across bootstraps\n",
    "edge_counts = defaultdict(int)\n",
    "\n",
    "for _ in range(n_bootstrap_samples):\n",
    "    # Bootstrap sample\n",
    "    bootstrap_sample = resample(data_duration, replace=True, random_state=np.random.randint(0, 10000))\n",
    "\n",
    "    # Apply GES\n",
    "    ges_result = ges(bootstrap_sample.to_numpy())\n",
    "\n",
    "    # Extract edges from the resulting CPDAG\n",
    "    cpdag = ges_result['G']\n",
    "    for edge in cpdag.get_graph_edges():\n",
    "        node1 = edge.node1\n",
    "        node2 = edge.node2\n",
    "        # Convert endpoints to string representations\n",
    "        endpoint1 = edge.get_endpoint1().name\n",
    "        endpoint2 = edge.get_endpoint2().name\n",
    "\n",
    "        # Create a sorted key to avoid counting A->B and B->A as different\n",
    "        if node1.get_name() < node2.get_name():\n",
    "            key = (node1.get_name(), node2.get_name(), endpoint1, endpoint2)\n",
    "        else:\n",
    "            key = (node2.get_name(), node1.get_name(), endpoint2, endpoint1)\n",
    "            \n",
    "        edge_counts[key] += 1\n",
    "\n",
    "# Print the top edges\n",
    "print(\"\\nTop edges across bootstraps:\")\n",
    "print(\"=\" * 60)\n",
    "print(\"{:<15} {:<15} {:<10} {:<10} {:<10}\".format(\"Node1\", \"Node2\", \"End1\", \"End2\", \"Count\"))\n",
    "print(\"-\" * 60)\n",
    "for edge, count in sorted(edge_counts.items(), key=lambda x: x[1], reverse=True):\n",
    "    node1, node2, end1, end2 = edge\n",
    "    print(\"{:<15} {:<15} {:<10} {:<10} {:<10}\".format(node1, node2, end1, end2, count))\n"
   ]
  },
  {
   "cell_type": "code",
   "execution_count": 18,
   "id": "dd60cca6",
   "metadata": {},
   "outputs": [
    {
     "name": "stderr",
     "output_type": "stream",
     "text": [
      "Depth=5, working on node 9: 100%|██████████| 10/10 [00:00<00:00, 588.15it/s]\n",
      "Depth=5, working on node 9: 100%|██████████| 10/10 [00:00<00:00, 599.94it/s]\n",
      "Depth=5, working on node 9: 100%|██████████| 10/10 [00:00<00:00, 738.23it/s]\n",
      "Depth=6, working on node 9: 100%|██████████| 10/10 [00:00<00:00, 610.15it/s]\n",
      "Depth=5, working on node 9: 100%|██████████| 10/10 [00:00<00:00, 587.50it/s]\n",
      "Depth=5, working on node 9: 100%|██████████| 10/10 [00:00<00:00, 769.19it/s]\n",
      "Depth=5, working on node 9: 100%|██████████| 10/10 [00:00<00:00, 666.66it/s]\n",
      "Depth=4, working on node 9: 100%|██████████| 10/10 [00:00<00:00, 714.50it/s]\n",
      "Depth=4, working on node 9: 100%|██████████| 10/10 [00:00<00:00, 526.33it/s]\n",
      "Depth=5, working on node 9: 100%|██████████| 10/10 [00:00<00:00, 833.38it/s]\n",
      "Depth=5, working on node 9: 100%|██████████| 10/10 [00:00<00:00, 644.39it/s]\n",
      "Depth=5, working on node 9: 100%|██████████| 10/10 [00:00<00:00, 769.09it/s]\n",
      "Depth=6, working on node 9: 100%|██████████| 10/10 [00:00<00:00, 769.02it/s]\n",
      "Depth=5, working on node 9: 100%|██████████| 10/10 [00:00<00:00, 624.87it/s]\n",
      "Depth=5, working on node 9: 100%|██████████| 10/10 [00:00<00:00, 657.55it/s]\n",
      "Depth=5, working on node 9: 100%|██████████| 10/10 [00:00<00:00, 714.84it/s]\n",
      "Depth=5, working on node 9: 100%|██████████| 10/10 [00:00<00:00, 714.43it/s]\n",
      "Depth=6, working on node 9: 100%|██████████| 10/10 [00:00<00:00, 1250.95it/s]\n",
      "Depth=5, working on node 9: 100%|██████████| 10/10 [00:00<00:00, 734.27it/s]\n",
      "Depth=5, working on node 9: 100%|██████████| 10/10 [00:00<00:00, 713.94it/s]\n",
      "Depth=5, working on node 9: 100%|██████████| 10/10 [00:00<00:00, 622.94it/s]\n",
      "Depth=6, working on node 9: 100%|██████████| 10/10 [00:00<00:00, 999.74it/s] \n",
      "Depth=5, working on node 9: 100%|██████████| 10/10 [00:00<00:00, 799.37it/s]\n",
      "Depth=6, working on node 9: 100%|██████████| 10/10 [00:00<00:00, 769.47it/s]\n",
      "Depth=5, working on node 9: 100%|██████████| 10/10 [00:00<00:00, 909.08it/s] \n",
      "Depth=5, working on node 9: 100%|██████████| 10/10 [00:00<00:00, 833.16it/s]\n",
      "Depth=5, working on node 9: 100%|██████████| 10/10 [00:00<00:00, 624.91it/s]\n",
      "Depth=5, working on node 9: 100%|██████████| 10/10 [00:00<00:00, 714.08it/s]\n",
      "Depth=5, working on node 9: 100%|██████████| 10/10 [00:00<00:00, 1045.88it/s]\n",
      "Depth=5, working on node 9: 100%|██████████| 10/10 [00:00<00:00, 833.56it/s]\n",
      "Depth=5, working on node 9: 100%|██████████| 10/10 [00:00<00:00, 909.59it/s] \n",
      "Depth=5, working on node 9: 100%|██████████| 10/10 [00:00<00:00, 732.44it/s]\n",
      "Depth=5, working on node 9: 100%|██████████| 10/10 [00:00<00:00, 908.70it/s]\n",
      "Depth=5, working on node 9: 100%|██████████| 10/10 [00:00<00:00, 832.83it/s]\n",
      "Depth=5, working on node 9: 100%|██████████| 10/10 [00:00<00:00, 768.75it/s]\n",
      "Depth=5, working on node 9: 100%|██████████| 10/10 [00:00<00:00, 625.01it/s]\n",
      "Depth=5, working on node 9: 100%|██████████| 10/10 [00:00<00:00, 588.13it/s]\n",
      "Depth=5, working on node 9: 100%|██████████| 10/10 [00:00<00:00, 521.56it/s]\n",
      "Depth=5, working on node 9: 100%|██████████| 10/10 [00:00<00:00, 832.91it/s] \n",
      "Depth=5, working on node 9: 100%|██████████| 10/10 [00:00<00:00, 666.55it/s]\n",
      "Depth=6, working on node 9: 100%|██████████| 10/10 [00:00<00:00, 997.98it/s] \n",
      "Depth=5, working on node 9: 100%|██████████| 10/10 [00:00<00:00, 714.54it/s] \n",
      "Depth=6, working on node 9: 100%|██████████| 10/10 [00:00<00:00, 210.14it/s]\n",
      "Depth=5, working on node 9: 100%|██████████| 10/10 [00:00<00:00, 798.31it/s] \n",
      "Depth=5, working on node 9: 100%|██████████| 10/10 [00:00<00:00, 999.98it/s] \n",
      "Depth=5, working on node 9: 100%|██████████| 10/10 [00:00<00:00, 941.52it/s] \n",
      "Depth=5, working on node 9: 100%|██████████| 10/10 [00:00<00:00, 532.31it/s]\n",
      "Depth=5, working on node 9: 100%|██████████| 10/10 [00:00<00:00, 526.59it/s]\n",
      "Depth=5, working on node 9: 100%|██████████| 10/10 [00:00<00:00, 770.35it/s]\n",
      "Depth=5, working on node 9: 100%|██████████| 10/10 [00:00<00:00, 909.06it/s]\n",
      "Depth=5, working on node 9: 100%|██████████| 10/10 [00:00<00:00, 665.52it/s]\n",
      "Depth=5, working on node 9: 100%|██████████| 10/10 [00:00<00:00, 691.94it/s]\n",
      "Depth=5, working on node 9: 100%|██████████| 10/10 [00:00<00:00, 656.23it/s]\n",
      "Depth=6, working on node 9: 100%|██████████| 10/10 [00:00<00:00, 769.19it/s]\n",
      "Depth=5, working on node 9: 100%|██████████| 10/10 [00:00<00:00, 1110.54it/s]\n",
      "Depth=6, working on node 9: 100%|██████████| 10/10 [00:00<00:00, 907.47it/s] \n",
      "Depth=5, working on node 9: 100%|██████████| 10/10 [00:00<00:00, 505.81it/s]\n",
      "Depth=5, working on node 9: 100%|██████████| 10/10 [00:00<00:00, 736.90it/s]\n",
      "Depth=5, working on node 9: 100%|██████████| 10/10 [00:00<00:00, 666.60it/s]\n",
      "Depth=5, working on node 9: 100%|██████████| 10/10 [00:00<00:00, 1046.87it/s]\n",
      "Depth=5, working on node 9: 100%|██████████| 10/10 [00:00<00:00, 714.11it/s]\n",
      "Depth=5, working on node 9: 100%|██████████| 10/10 [00:00<00:00, 768.91it/s]\n",
      "Depth=6, working on node 9: 100%|██████████| 10/10 [00:00<00:00, 1001.10it/s]\n",
      "Depth=5, working on node 9: 100%|██████████| 10/10 [00:00<00:00, 706.98it/s]\n",
      "Depth=5, working on node 9: 100%|██████████| 10/10 [00:00<00:00, 688.66it/s]\n",
      "Depth=6, working on node 9: 100%|██████████| 10/10 [00:00<00:00, 1001.79it/s]\n",
      "Depth=5, working on node 9: 100%|██████████| 10/10 [00:00<00:00, 769.26it/s]\n",
      "Depth=5, working on node 9: 100%|██████████| 10/10 [00:00<00:00, 909.00it/s]\n",
      "Depth=5, working on node 9: 100%|██████████| 10/10 [00:00<00:00, 693.02it/s]\n",
      "Depth=5, working on node 9: 100%|██████████| 10/10 [00:00<00:00, 714.23it/s]\n",
      "Depth=5, working on node 9: 100%|██████████| 10/10 [00:00<00:00, 689.08it/s]\n",
      "Depth=5, working on node 9: 100%|██████████| 10/10 [00:00<00:00, 577.83it/s]\n",
      "Depth=6, working on node 9: 100%|██████████| 10/10 [00:00<00:00, 999.52it/s] \n",
      "Depth=5, working on node 9: 100%|██████████| 10/10 [00:00<00:00, 908.13it/s] \n",
      "Depth=5, working on node 9: 100%|██████████| 10/10 [00:00<00:00, 624.80it/s]\n",
      "Depth=5, working on node 9: 100%|██████████| 10/10 [00:00<00:00, 362.76it/s]\n",
      "Depth=5, working on node 9: 100%|██████████| 10/10 [00:00<00:00, 666.33it/s]\n",
      "Depth=5, working on node 9: 100%|██████████| 10/10 [00:00<00:00, 832.80it/s] \n",
      "Depth=6, working on node 9: 100%|██████████| 10/10 [00:00<00:00, 703.28it/s]\n",
      "Depth=5, working on node 9: 100%|██████████| 10/10 [00:00<00:00, 518.72it/s]\n",
      "Depth=5, working on node 9: 100%|██████████| 10/10 [00:00<00:00, 714.30it/s] \n",
      "Depth=5, working on node 9: 100%|██████████| 10/10 [00:00<00:00, 624.91it/s]\n",
      "Depth=5, working on node 9: 100%|██████████| 10/10 [00:00<00:00, 666.24it/s]\n",
      "Depth=5, working on node 9: 100%|██████████| 10/10 [00:00<00:00, 739.85it/s]\n",
      "Depth=5, working on node 9: 100%|██████████| 10/10 [00:00<00:00, 768.03it/s]\n",
      "Depth=5, working on node 9: 100%|██████████| 10/10 [00:00<00:00, 363.79it/s]\n",
      "Depth=6, working on node 9: 100%|██████████| 10/10 [00:00<00:00, 194.10it/s]\n",
      "Depth=4, working on node 9: 100%|██████████| 10/10 [00:00<00:00, 636.42it/s]\n",
      "Depth=5, working on node 9: 100%|██████████| 10/10 [00:00<00:00, 587.13it/s]\n",
      "Depth=6, working on node 9: 100%|██████████| 10/10 [00:00<00:00, 1428.14it/s]\n",
      "Depth=5, working on node 9: 100%|██████████| 10/10 [00:00<00:00, 986.90it/s] \n",
      "Depth=5, working on node 9: 100%|██████████| 10/10 [00:00<00:00, 769.36it/s]\n",
      "Depth=6, working on node 9: 100%|██████████| 10/10 [00:00<00:00, 1250.28it/s]\n",
      "Depth=4, working on node 9: 100%|██████████| 10/10 [00:00<00:00, 698.53it/s]\n",
      "Depth=6, working on node 9: 100%|██████████| 10/10 [00:00<00:00, 912.20it/s] \n",
      "Depth=4, working on node 9: 100%|██████████| 10/10 [00:00<00:00, 1016.23it/s]\n",
      "Depth=5, working on node 9: 100%|██████████| 10/10 [00:00<00:00, 654.37it/s]\n",
      "Depth=5, working on node 9: 100%|██████████| 10/10 [00:00<00:00, 952.97it/s] \n",
      "Depth=5, working on node 9: 100%|██████████| 10/10 [00:00<00:00, 997.22it/s] \n",
      "Depth=5, working on node 9: 100%|██████████| 10/10 [00:00<00:00, 769.39it/s]"
     ]
    },
    {
     "name": "stdout",
     "output_type": "stream",
     "text": [
      "\n",
      "Top edges across bootstraps (PC algorithm):\n",
      "============================================================\n",
      "Node1           Node2           End1       End2       Count     \n",
      "------------------------------------------------------------\n",
      "X2              X5              ARROW      TAIL       100       \n",
      "X2              X9              ARROW      TAIL       100       \n",
      "X3              X7              ARROW      TAIL       100       \n",
      "X3              X8              ARROW      TAIL       100       \n",
      "X2              X6              ARROW      TAIL       99        \n",
      "X2              X8              ARROW      TAIL       99        \n",
      "X10             X3              TAIL       ARROW      99        \n",
      "X2              X3              ARROW      TAIL       98        \n",
      "X3              X4              ARROW      TAIL       98        \n",
      "X5              X7              ARROW      TAIL       95        \n",
      "X6              X7              ARROW      TAIL       95        \n",
      "X5              X8              ARROW      TAIL       94        \n",
      "X6              X9              ARROW      TAIL       92        \n",
      "X10             X9              TAIL       TAIL       91        \n",
      "X3              X6              ARROW      TAIL       82        \n",
      "X1              X6              ARROW      TAIL       73        \n",
      "X4              X6              ARROW      TAIL       55        \n",
      "X4              X5              ARROW      TAIL       54        \n",
      "X4              X8              ARROW      TAIL       48        \n",
      "X4              X5              TAIL       ARROW      46        \n",
      "X1              X10             ARROW      TAIL       38        \n",
      "X1              X8              ARROW      TAIL       37        \n",
      "X1              X5              ARROW      TAIL       35        \n",
      "X1              X2              TAIL       ARROW      35        \n",
      "X1              X9              ARROW      TAIL       29        \n",
      "X1              X6              TAIL       ARROW      26        \n",
      "X4              X8              TAIL       TAIL       26        \n",
      "X1              X2              ARROW      TAIL       26        \n",
      "X10             X6              TAIL       ARROW      25        \n",
      "X10             X5              TAIL       ARROW      18        \n",
      "X1              X7              ARROW      TAIL       12        \n",
      "X2              X7              ARROW      TAIL       12        \n",
      "X6              X7              TAIL       TAIL       5         \n",
      "X5              X7              TAIL       TAIL       5         \n",
      "X1              X9              TAIL       ARROW      5         \n",
      "X10             X9              TAIL       ARROW      5         \n",
      "X5              X8              TAIL       TAIL       4         \n",
      "X1              X4              ARROW      TAIL       4         \n",
      "X10             X9              ARROW      TAIL       4         \n",
      "X4              X8              TAIL       ARROW      3         \n",
      "X1              X9              TAIL       TAIL       3         \n",
      "X10             X8              ARROW      TAIL       3         \n",
      "X1              X5              TAIL       ARROW      2         \n",
      "X5              X8              TAIL       ARROW      2         \n",
      "X2              X3              TAIL       ARROW      2         \n",
      "X10             X6              ARROW      TAIL       2         \n",
      "X5              X6              ARROW      TAIL       1         \n",
      "X1              X6              TAIL       TAIL       1         \n",
      "X10             X4              TAIL       ARROW      1         \n",
      "X6              X9              TAIL       TAIL       1         \n",
      "X2              X8              TAIL       ARROW      1         \n",
      "X1              X3              ARROW      TAIL       1         \n"
     ]
    },
    {
     "name": "stderr",
     "output_type": "stream",
     "text": [
      "\n"
     ]
    }
   ],
   "source": [
    "\n",
    "# Number of bootstrap samples\n",
    "n_bootstrap_samples = 100\n",
    "\n",
    "# Collect edges across bootstraps\n",
    "edge_counts = defaultdict(int)\n",
    "\n",
    "for _ in range(n_bootstrap_samples):\n",
    "    # Bootstrap sample\n",
    "    bootstrap_sample = resample(data_duration, replace=True, random_state=np.random.randint(0, 10000))\n",
    "\n",
    "    # Apply PC algorithm - returns a CausalGraph object\n",
    "    cpdag = pc(bootstrap_sample.to_numpy(), alpha=0.05, indep_test='fisherz')\n",
    "\n",
    "    # Correct way to extract edges from CausalGraph\n",
    "    graph = cpdag.G  # This gives us the GeneralGraph object\n",
    "    edges = graph.get_graph_edges()  # This gets all edges in the graph\n",
    "\n",
    "    for edge in edges:\n",
    "        node1 = edge.node1\n",
    "        node2 = edge.node2\n",
    "        # Convert endpoints to string representations\n",
    "        endpoint1 = edge.endpoint1.name\n",
    "        endpoint2 = edge.endpoint2.name\n",
    "\n",
    "        # Create a sorted key to avoid counting A->B and B->A as different\n",
    "        if node1.get_name() < node2.get_name():\n",
    "            key = (node1.get_name(), node2.get_name(), endpoint1, endpoint2)\n",
    "        else:\n",
    "            key = (node2.get_name(), node1.get_name(), endpoint2, endpoint1)\n",
    "            \n",
    "        edge_counts[key] += 1\n",
    "\n",
    "# Print the top edges\n",
    "print(\"\\nTop edges across bootstraps (PC algorithm):\")\n",
    "print(\"=\" * 60)\n",
    "print(\"{:<15} {:<15} {:<10} {:<10} {:<10}\".format(\"Node1\", \"Node2\", \"End1\", \"End2\", \"Count\"))\n",
    "print(\"-\" * 60)\n",
    "for edge, count in sorted(edge_counts.items(), key=lambda x: x[1], reverse=True):\n",
    "    node1, node2, end1, end2 = edge\n",
    "    print(\"{:<15} {:<15} {:<10} {:<10} {:<10}\".format(node1, node2, end1, end2, count))"
   ]
  },
  {
   "cell_type": "code",
   "execution_count": 21,
   "id": "7e97ec79",
   "metadata": {},
   "outputs": [],
   "source": [
    "# Your dataset\n",
    "data_steel = pd.read_excel(\"processed_steel.xlsx\") \n",
    "data_array_steel = data_steel.values"
   ]
  },
  {
   "cell_type": "code",
   "execution_count": 26,
   "id": "e64625c6",
   "metadata": {},
   "outputs": [
    {
     "name": "stderr",
     "output_type": "stream",
     "text": [
      "Depth=0, working on node 2:  14%|█▍        | 2/14 [00:00<00:00, 400.22it/s]"
     ]
    },
    {
     "name": "stderr",
     "output_type": "stream",
     "text": [
      "Depth=0, working on node 13: 100%|██████████| 14/14 [00:00<00:00, 388.74it/s]\n"
     ]
    },
    {
     "name": "stdout",
     "output_type": "stream",
     "text": [
      "X2 --> X7\n",
      "X9 --> X11\n",
      "X11 --> X13\n"
     ]
    },
    {
     "name": "stderr",
     "output_type": "stream",
     "text": [
      "Depth=0, working on node 13: 100%|██████████| 14/14 [00:00<00:00, 490.49it/s]\n"
     ]
    },
    {
     "name": "stdout",
     "output_type": "stream",
     "text": [
      "X9 --> X11\n"
     ]
    },
    {
     "name": "stderr",
     "output_type": "stream",
     "text": [
      "Depth=0, working on node 13: 100%|██████████| 14/14 [00:00<00:00, 482.74it/s]\n"
     ]
    },
    {
     "name": "stdout",
     "output_type": "stream",
     "text": [
      "X6 --> X1\n",
      "X9 --> X8\n",
      "X8 --> X11\n",
      "X9 --> X11\n"
     ]
    },
    {
     "name": "stderr",
     "output_type": "stream",
     "text": [
      "Depth=0, working on node 13: 100%|██████████| 14/14 [00:00<00:00, 484.10it/s]\n"
     ]
    },
    {
     "name": "stdout",
     "output_type": "stream",
     "text": [
      "X6 --> X4\n",
      "X9 --> X8\n",
      "X14 --> X8\n",
      "X9 --> X11\n"
     ]
    },
    {
     "name": "stderr",
     "output_type": "stream",
     "text": [
      "Depth=0, working on node 13: 100%|██████████| 14/14 [00:00<00:00, 497.92it/s]\n"
     ]
    },
    {
     "name": "stdout",
     "output_type": "stream",
     "text": [
      "X6 --> X1\n",
      "X2 --> X12\n",
      "X4 --> X12\n",
      "X9 --> X8\n",
      "X8 --> X11\n",
      "X9 --> X11\n"
     ]
    },
    {
     "name": "stderr",
     "output_type": "stream",
     "text": [
      "Depth=0, working on node 13: 100%|██████████| 14/14 [00:00<00:00, 432.83it/s]\n"
     ]
    },
    {
     "name": "stdout",
     "output_type": "stream",
     "text": [
      "X4 --> X1\n",
      "X14 --> X3\n",
      "X9 --> X8\n",
      "X11 --> X13\n"
     ]
    },
    {
     "name": "stderr",
     "output_type": "stream",
     "text": [
      "Depth=0, working on node 13: 100%|██████████| 14/14 [00:00<00:00, 500.05it/s]\n"
     ]
    },
    {
     "name": "stdout",
     "output_type": "stream",
     "text": [
      "X4 --> X1\n",
      "X6 --> X1\n",
      "X8 --> X1\n"
     ]
    },
    {
     "name": "stderr",
     "output_type": "stream",
     "text": [
      "Depth=0, working on node 13: 100%|██████████| 14/14 [00:00<00:00, 535.08it/s]\n"
     ]
    },
    {
     "name": "stdout",
     "output_type": "stream",
     "text": [
      "X2 --> X1\n",
      "X4 --> X1\n",
      "X2 --> X3\n",
      "X11 --> X8\n",
      "X8 --> X13\n"
     ]
    },
    {
     "name": "stderr",
     "output_type": "stream",
     "text": [
      "Depth=0, working on node 13: 100%|██████████| 14/14 [00:00<00:00, 535.02it/s]\n"
     ]
    },
    {
     "name": "stdout",
     "output_type": "stream",
     "text": [
      "X6 --> X1\n",
      "X2 --> X4\n",
      "X5 --> X3\n",
      "X8 --> X11\n",
      "X9 --> X11\n"
     ]
    },
    {
     "name": "stderr",
     "output_type": "stream",
     "text": [
      "Depth=0, working on node 13: 100%|██████████| 14/14 [00:00<00:00, 491.89it/s]\n"
     ]
    },
    {
     "name": "stdout",
     "output_type": "stream",
     "text": [
      "X4 --> X1\n",
      "X6 --> X1\n",
      "X5 --> X3\n",
      "X9 --> X8\n",
      "X9 --> X11\n"
     ]
    },
    {
     "name": "stderr",
     "output_type": "stream",
     "text": [
      "Depth=0, working on node 13: 100%|██████████| 14/14 [00:00<00:00, 538.54it/s]\n"
     ]
    },
    {
     "name": "stdout",
     "output_type": "stream",
     "text": [
      "X13 --> X14\n"
     ]
    },
    {
     "name": "stderr",
     "output_type": "stream",
     "text": [
      "Depth=0, working on node 13: 100%|██████████| 14/14 [00:00<00:00, 467.88it/s]\n"
     ]
    },
    {
     "name": "stdout",
     "output_type": "stream",
     "text": [
      "X9 --> X8\n"
     ]
    },
    {
     "name": "stderr",
     "output_type": "stream",
     "text": [
      "Depth=0, working on node 13: 100%|██████████| 14/14 [00:00<00:00, 492.69it/s]\n"
     ]
    },
    {
     "name": "stdout",
     "output_type": "stream",
     "text": [
      "X4 --> X1\n",
      "X5 --> X1\n",
      "X6 --> X1\n",
      "X9 --> X8\n",
      "X9 --> X11\n"
     ]
    },
    {
     "name": "stderr",
     "output_type": "stream",
     "text": [
      "Depth=0, working on node 13: 100%|██████████| 14/14 [00:00<00:00, 430.18it/s]\n"
     ]
    },
    {
     "name": "stdout",
     "output_type": "stream",
     "text": [
      "X4 --> X1\n",
      "X13 --> X14\n"
     ]
    },
    {
     "name": "stderr",
     "output_type": "stream",
     "text": [
      "Depth=0, working on node 13: 100%|██████████| 14/14 [00:00<00:00, 451.21it/s]\n"
     ]
    },
    {
     "name": "stdout",
     "output_type": "stream",
     "text": [
      "X6 --> X1\n",
      "X6 --> X13\n",
      "X9 --> X8\n"
     ]
    },
    {
     "name": "stderr",
     "output_type": "stream",
     "text": [
      "Depth=0, working on node 13: 100%|██████████| 14/14 [00:00<00:00, 466.62it/s]\n"
     ]
    },
    {
     "name": "stdout",
     "output_type": "stream",
     "text": [
      "X6 --> X1\n",
      "X5 --> X3\n",
      "X9 --> X11\n",
      "X13 --> X14\n"
     ]
    },
    {
     "name": "stderr",
     "output_type": "stream",
     "text": [
      "Depth=0, working on node 13: 100%|██████████| 14/14 [00:00<00:00, 475.50it/s]\n"
     ]
    },
    {
     "name": "stdout",
     "output_type": "stream",
     "text": [
      "X2 --> X1\n",
      "X6 --> X1\n",
      "X2 --> X3\n",
      "X5 --> X4\n"
     ]
    },
    {
     "name": "stderr",
     "output_type": "stream",
     "text": [
      "Depth=0, working on node 13: 100%|██████████| 14/14 [00:00<00:00, 520.45it/s]\n"
     ]
    },
    {
     "name": "stdout",
     "output_type": "stream",
     "text": [
      "X4 --> X1\n",
      "X4 --> X2\n",
      "X9 --> X11\n"
     ]
    },
    {
     "name": "stderr",
     "output_type": "stream",
     "text": [
      "Depth=0, working on node 13: 100%|██████████| 14/14 [00:00<00:00, 518.47it/s]\n"
     ]
    },
    {
     "name": "stdout",
     "output_type": "stream",
     "text": [
      "X1 --> X14\n",
      "X6 --> X2\n",
      "X5 --> X3\n",
      "X9 --> X11\n"
     ]
    },
    {
     "name": "stderr",
     "output_type": "stream",
     "text": [
      "Depth=0, working on node 13: 100%|██████████| 14/14 [00:00<00:00, 525.11it/s]\n"
     ]
    },
    {
     "name": "stdout",
     "output_type": "stream",
     "text": [
      "X8 --> X11\n",
      "X9 --> X11\n"
     ]
    },
    {
     "name": "stderr",
     "output_type": "stream",
     "text": [
      "Depth=0, working on node 13: 100%|██████████| 14/14 [00:00<00:00, 482.69it/s]\n"
     ]
    },
    {
     "name": "stdout",
     "output_type": "stream",
     "text": [
      "X6 --> X1\n",
      "X5 --> X3\n",
      "X8 --> X11\n"
     ]
    },
    {
     "name": "stderr",
     "output_type": "stream",
     "text": [
      "Depth=0, working on node 13: 100%|██████████| 14/14 [00:00<00:00, 447.05it/s]\n"
     ]
    },
    {
     "name": "stdout",
     "output_type": "stream",
     "text": [
      "X4 --> X1\n",
      "X6 --> X1\n",
      "X2 --> X7\n"
     ]
    },
    {
     "name": "stderr",
     "output_type": "stream",
     "text": [
      "Depth=0, working on node 13: 100%|██████████| 14/14 [00:00<00:00, 524.15it/s]\n"
     ]
    },
    {
     "name": "stdout",
     "output_type": "stream",
     "text": [
      "X8 --> X11\n",
      "X9 --> X11\n"
     ]
    },
    {
     "name": "stderr",
     "output_type": "stream",
     "text": [
      "Depth=0, working on node 13: 100%|██████████| 14/14 [00:00<00:00, 256.03it/s]\n"
     ]
    },
    {
     "name": "stdout",
     "output_type": "stream",
     "text": [
      "X8 --> X11\n"
     ]
    },
    {
     "name": "stderr",
     "output_type": "stream",
     "text": [
      "Depth=0, working on node 13: 100%|██████████| 14/14 [00:00<00:00, 469.35it/s]\n"
     ]
    },
    {
     "name": "stdout",
     "output_type": "stream",
     "text": [
      "X4 --> X1\n",
      "X8 --> X1\n",
      "X11 --> X8\n"
     ]
    },
    {
     "name": "stderr",
     "output_type": "stream",
     "text": [
      "Depth=0, working on node 13: 100%|██████████| 14/14 [00:00<00:00, 511.50it/s]\n"
     ]
    },
    {
     "name": "stdout",
     "output_type": "stream",
     "text": [
      "X6 --> X1\n",
      "X8 --> X11\n",
      "X13 --> X14\n"
     ]
    },
    {
     "name": "stderr",
     "output_type": "stream",
     "text": [
      "Depth=0, working on node 13: 100%|██████████| 14/14 [00:00<00:00, 466.73it/s]\n"
     ]
    },
    {
     "name": "stdout",
     "output_type": "stream",
     "text": [
      "X6 --> X1\n",
      "X9 --> X8\n",
      "X8 --> X11\n",
      "X9 --> X11\n"
     ]
    },
    {
     "name": "stderr",
     "output_type": "stream",
     "text": [
      "Depth=0, working on node 13: 100%|██████████| 14/14 [00:00<00:00, 559.85it/s]\n"
     ]
    },
    {
     "name": "stdout",
     "output_type": "stream",
     "text": [
      "X5 --> X3\n",
      "X9 --> X8\n",
      "X9 --> X11\n"
     ]
    },
    {
     "name": "stderr",
     "output_type": "stream",
     "text": [
      "Depth=0, working on node 13: 100%|██████████| 14/14 [00:00<00:00, 581.08it/s]\n"
     ]
    },
    {
     "name": "stdout",
     "output_type": "stream",
     "text": [
      "X6 --> X1\n",
      "X9 --> X8\n",
      "X8 --> X11\n",
      "X13 --> X14\n"
     ]
    },
    {
     "name": "stderr",
     "output_type": "stream",
     "text": [
      "Depth=0, working on node 13: 100%|██████████| 14/14 [00:00<00:00, 558.70it/s]\n"
     ]
    },
    {
     "name": "stdout",
     "output_type": "stream",
     "text": [
      "X4 --> X1\n",
      "X5 --> X3\n",
      "X9 --> X11\n"
     ]
    },
    {
     "name": "stderr",
     "output_type": "stream",
     "text": [
      "Depth=0, working on node 13: 100%|██████████| 14/14 [00:00<00:00, 483.64it/s]\n"
     ]
    },
    {
     "name": "stdout",
     "output_type": "stream",
     "text": [
      "X4 --> X1\n",
      "X5 --> X1\n",
      "X6 --> X1\n",
      "X9 --> X8\n"
     ]
    },
    {
     "name": "stderr",
     "output_type": "stream",
     "text": [
      "Depth=0, working on node 13: 100%|██████████| 14/14 [00:00<00:00, 468.53it/s]\n"
     ]
    },
    {
     "name": "stdout",
     "output_type": "stream",
     "text": [
      "X2 --> X6\n"
     ]
    },
    {
     "name": "stderr",
     "output_type": "stream",
     "text": [
      "Depth=0, working on node 13: 100%|██████████| 14/14 [00:00<00:00, 500.26it/s]\n",
      "Depth=0, working on node 13: 100%|██████████| 14/14 [00:00<00:00, 629.30it/s]\n"
     ]
    },
    {
     "name": "stdout",
     "output_type": "stream",
     "text": [
      "X13 --> X6\n"
     ]
    },
    {
     "name": "stderr",
     "output_type": "stream",
     "text": [
      "Depth=0, working on node 13: 100%|██████████| 14/14 [00:00<00:00, 585.97it/s]\n"
     ]
    },
    {
     "name": "stdout",
     "output_type": "stream",
     "text": [
      "X6 --> X1\n",
      "X8 --> X11\n"
     ]
    },
    {
     "name": "stderr",
     "output_type": "stream",
     "text": [
      "Depth=0, working on node 13: 100%|██████████| 14/14 [00:00<00:00, 545.90it/s]\n"
     ]
    },
    {
     "name": "stdout",
     "output_type": "stream",
     "text": [
      "X4 --> X1\n",
      "X6 --> X1\n",
      "X12 --> X3\n"
     ]
    },
    {
     "name": "stderr",
     "output_type": "stream",
     "text": [
      "Depth=0, working on node 13: 100%|██████████| 14/14 [00:00<00:00, 451.18it/s]\n"
     ]
    },
    {
     "name": "stdout",
     "output_type": "stream",
     "text": [
      "X5 --> X1\n",
      "X6 --> X1\n",
      "X3 --> X12\n",
      "X9 --> X11\n",
      "X11 --> X14\n"
     ]
    },
    {
     "name": "stderr",
     "output_type": "stream",
     "text": [
      "Depth=0, working on node 13: 100%|██████████| 14/14 [00:00<00:00, 496.94it/s]\n"
     ]
    },
    {
     "name": "stdout",
     "output_type": "stream",
     "text": [
      "X6 --> X1\n",
      "X2 --> X7\n",
      "X3 --> X12\n",
      "X8 --> X13\n",
      "X9 --> X11\n"
     ]
    },
    {
     "name": "stderr",
     "output_type": "stream",
     "text": [
      "Depth=0, working on node 13: 100%|██████████| 14/14 [00:00<00:00, 560.03it/s]\n"
     ]
    },
    {
     "name": "stdout",
     "output_type": "stream",
     "text": [
      "X9 --> X11\n"
     ]
    },
    {
     "name": "stderr",
     "output_type": "stream",
     "text": [
      "Depth=0, working on node 13: 100%|██████████| 14/14 [00:00<00:00, 520.12it/s]\n"
     ]
    },
    {
     "name": "stdout",
     "output_type": "stream",
     "text": [
      "X4 --> X14\n",
      "X9 --> X8\n",
      "X9 --> X11\n",
      "X13 --> X14\n"
     ]
    },
    {
     "name": "stderr",
     "output_type": "stream",
     "text": [
      "Depth=0, working on node 13: 100%|██████████| 14/14 [00:00<00:00, 557.59it/s]\n"
     ]
    },
    {
     "name": "stdout",
     "output_type": "stream",
     "text": [
      "X4 --> X1\n",
      "X9 --> X11\n"
     ]
    },
    {
     "name": "stderr",
     "output_type": "stream",
     "text": [
      "Depth=0, working on node 13: 100%|██████████| 14/14 [00:00<00:00, 471.67it/s]\n"
     ]
    },
    {
     "name": "stdout",
     "output_type": "stream",
     "text": [
      "X12 --> X3\n"
     ]
    },
    {
     "name": "stderr",
     "output_type": "stream",
     "text": [
      "Depth=0, working on node 13: 100%|██████████| 14/14 [00:00<00:00, 534.05it/s]\n"
     ]
    },
    {
     "name": "stdout",
     "output_type": "stream",
     "text": [
      "X9 --> X11\n"
     ]
    },
    {
     "name": "stderr",
     "output_type": "stream",
     "text": [
      "Depth=0, working on node 13: 100%|██████████| 14/14 [00:00<00:00, 500.07it/s]\n"
     ]
    },
    {
     "name": "stdout",
     "output_type": "stream",
     "text": [
      "X4 --> X1\n",
      "X6 --> X1\n",
      "X5 --> X4\n",
      "X9 --> X8\n",
      "X9 --> X11\n"
     ]
    },
    {
     "name": "stderr",
     "output_type": "stream",
     "text": [
      "Depth=0, working on node 13: 100%|██████████| 14/14 [00:00<00:00, 486.54it/s]\n"
     ]
    },
    {
     "name": "stdout",
     "output_type": "stream",
     "text": [
      "X4 --> X1\n",
      "X2 --> X7\n",
      "X12 --> X6\n",
      "X13 --> X14\n"
     ]
    },
    {
     "name": "stderr",
     "output_type": "stream",
     "text": [
      "Depth=0, working on node 13: 100%|██████████| 14/14 [00:00<00:00, 528.13it/s]\n"
     ]
    },
    {
     "name": "stdout",
     "output_type": "stream",
     "text": [
      "X4 --> X1\n",
      "X6 --> X1\n",
      "X9 --> X11\n"
     ]
    },
    {
     "name": "stderr",
     "output_type": "stream",
     "text": [
      "Depth=0, working on node 13: 100%|██████████| 14/14 [00:00<00:00, 386.47it/s]\n"
     ]
    },
    {
     "name": "stdout",
     "output_type": "stream",
     "text": [
      "X5 --> X1\n",
      "X6 --> X1\n"
     ]
    },
    {
     "name": "stderr",
     "output_type": "stream",
     "text": [
      "Depth=0, working on node 13: 100%|██████████| 14/14 [00:00<00:00, 482.59it/s]\n"
     ]
    },
    {
     "name": "stdout",
     "output_type": "stream",
     "text": [
      "X7 --> X13\n",
      "X9 --> X8\n",
      "X9 --> X11\n",
      "X11 --> X13\n"
     ]
    },
    {
     "name": "stderr",
     "output_type": "stream",
     "text": [
      "Depth=0, working on node 13: 100%|██████████| 14/14 [00:00<00:00, 560.14it/s]\n"
     ]
    },
    {
     "name": "stdout",
     "output_type": "stream",
     "text": [
      "X4 --> X1\n",
      "X5 --> X1\n",
      "X9 --> X11\n",
      "X11 --> X13\n"
     ]
    },
    {
     "name": "stderr",
     "output_type": "stream",
     "text": [
      "Depth=0, working on node 13: 100%|██████████| 14/14 [00:00<00:00, 534.51it/s]\n"
     ]
    },
    {
     "name": "stdout",
     "output_type": "stream",
     "text": [
      "X6 --> X1\n",
      "X9 --> X8\n",
      "X9 --> X11\n"
     ]
    },
    {
     "name": "stderr",
     "output_type": "stream",
     "text": [
      "Depth=0, working on node 13: 100%|██████████| 14/14 [00:00<00:00, 552.06it/s]\n"
     ]
    },
    {
     "name": "stdout",
     "output_type": "stream",
     "text": [
      "X11 --> X12\n"
     ]
    },
    {
     "name": "stderr",
     "output_type": "stream",
     "text": [
      "Depth=0, working on node 13: 100%|██████████| 14/14 [00:00<00:00, 495.47it/s]\n"
     ]
    },
    {
     "name": "stdout",
     "output_type": "stream",
     "text": [
      "X6 --> X3\n",
      "X12 --> X3\n",
      "X7 --> X13\n",
      "X9 --> X8\n",
      "X8 --> X11\n",
      "X9 --> X11\n"
     ]
    },
    {
     "name": "stderr",
     "output_type": "stream",
     "text": [
      "Depth=0, working on node 13: 100%|██████████| 14/14 [00:00<00:00, 531.75it/s]\n"
     ]
    },
    {
     "name": "stdout",
     "output_type": "stream",
     "text": [
      "X4 --> X1\n",
      "X9 --> X8\n",
      "X11 --> X13\n"
     ]
    },
    {
     "name": "stderr",
     "output_type": "stream",
     "text": [
      "Depth=0, working on node 13: 100%|██████████| 14/14 [00:00<00:00, 466.46it/s]\n"
     ]
    },
    {
     "name": "stdout",
     "output_type": "stream",
     "text": [
      "X6 --> X1\n",
      "X5 --> X3\n",
      "X7 --> X13\n",
      "X9 --> X8\n",
      "X8 --> X11\n",
      "X9 --> X11\n"
     ]
    },
    {
     "name": "stderr",
     "output_type": "stream",
     "text": [
      "Depth=0, working on node 13: 100%|██████████| 14/14 [00:00<00:00, 529.38it/s]\n"
     ]
    },
    {
     "name": "stdout",
     "output_type": "stream",
     "text": [
      "X6 --> X1\n",
      "X8 --> X11\n",
      "X9 --> X11\n"
     ]
    },
    {
     "name": "stderr",
     "output_type": "stream",
     "text": [
      "Depth=0, working on node 13: 100%|██████████| 14/14 [00:00<00:00, 508.65it/s]\n"
     ]
    },
    {
     "name": "stdout",
     "output_type": "stream",
     "text": [
      "X9 --> X11\n"
     ]
    },
    {
     "name": "stderr",
     "output_type": "stream",
     "text": [
      "Depth=0, working on node 13: 100%|██████████| 14/14 [00:00<00:00, 530.40it/s]\n"
     ]
    },
    {
     "name": "stdout",
     "output_type": "stream",
     "text": [
      "X5 --> X1\n"
     ]
    },
    {
     "name": "stderr",
     "output_type": "stream",
     "text": [
      "Depth=0, working on node 13: 100%|██████████| 14/14 [00:00<00:00, 414.00it/s]\n"
     ]
    },
    {
     "name": "stdout",
     "output_type": "stream",
     "text": [
      "X7 --> X13\n"
     ]
    },
    {
     "name": "stderr",
     "output_type": "stream",
     "text": [
      "Depth=0, working on node 13: 100%|██████████| 14/14 [00:00<00:00, 501.82it/s]\n"
     ]
    },
    {
     "name": "stdout",
     "output_type": "stream",
     "text": [
      "X4 --> X1\n",
      "X4 --> X2\n",
      "X8 --> X13\n",
      "X9 --> X11\n",
      "X13 --> X14\n"
     ]
    },
    {
     "name": "stderr",
     "output_type": "stream",
     "text": [
      "Depth=0, working on node 13: 100%|██████████| 14/14 [00:00<00:00, 530.88it/s]\n",
      "Depth=0, working on node 13: 100%|██████████| 14/14 [00:00<00:00, 538.29it/s]\n"
     ]
    },
    {
     "name": "stdout",
     "output_type": "stream",
     "text": [
      "X4 --> X1\n",
      "X6 --> X1\n",
      "X9 --> X8\n",
      "X8 --> X11\n"
     ]
    },
    {
     "name": "stderr",
     "output_type": "stream",
     "text": [
      "Depth=0, working on node 13: 100%|██████████| 14/14 [00:00<00:00, 482.78it/s]\n"
     ]
    },
    {
     "name": "stdout",
     "output_type": "stream",
     "text": [
      "X5 --> X1\n",
      "X9 --> X8\n",
      "X11 --> X12\n"
     ]
    },
    {
     "name": "stderr",
     "output_type": "stream",
     "text": [
      "Depth=0, working on node 13: 100%|██████████| 14/14 [00:00<00:00, 548.36it/s]\n"
     ]
    },
    {
     "name": "stdout",
     "output_type": "stream",
     "text": [
      "X5 --> X1\n",
      "X6 --> X1\n",
      "X9 --> X8\n",
      "X8 --> X11\n",
      "X9 --> X11\n"
     ]
    },
    {
     "name": "stderr",
     "output_type": "stream",
     "text": [
      "Depth=0, working on node 13: 100%|██████████| 14/14 [00:00<00:00, 459.83it/s]\n"
     ]
    },
    {
     "name": "stdout",
     "output_type": "stream",
     "text": [
      "X1 --> X4\n",
      "X2 --> X7\n",
      "X2 --> X13\n",
      "X5 --> X4\n",
      "X11 --> X8\n",
      "X9 --> X11\n"
     ]
    },
    {
     "name": "stderr",
     "output_type": "stream",
     "text": [
      "Depth=0, working on node 13: 100%|██████████| 14/14 [00:00<00:00, 463.72it/s]\n"
     ]
    },
    {
     "name": "stdout",
     "output_type": "stream",
     "text": [
      "X5 --> X3\n",
      "X6 --> X4\n",
      "X9 --> X8\n",
      "X9 --> X11\n"
     ]
    },
    {
     "name": "stderr",
     "output_type": "stream",
     "text": [
      "Depth=0, working on node 13: 100%|██████████| 14/14 [00:00<00:00, 559.81it/s]\n"
     ]
    },
    {
     "name": "stdout",
     "output_type": "stream",
     "text": [
      "X4 --> X1\n",
      "X9 --> X8\n",
      "X12 --> X8\n",
      "X9 --> X11\n"
     ]
    },
    {
     "name": "stderr",
     "output_type": "stream",
     "text": [
      "Depth=0, working on node 13: 100%|██████████| 14/14 [00:00<00:00, 516.02it/s]\n"
     ]
    },
    {
     "name": "stdout",
     "output_type": "stream",
     "text": [
      "X6 --> X1\n",
      "X5 --> X3\n",
      "X5 --> X4\n",
      "X6 --> X4\n",
      "X8 --> X11\n"
     ]
    },
    {
     "name": "stderr",
     "output_type": "stream",
     "text": [
      "Depth=0, working on node 13: 100%|██████████| 14/14 [00:00<00:00, 492.85it/s]\n"
     ]
    },
    {
     "name": "stdout",
     "output_type": "stream",
     "text": [
      "X4 --> X1\n",
      "X9 --> X11\n",
      "X13 --> X14\n"
     ]
    },
    {
     "name": "stderr",
     "output_type": "stream",
     "text": [
      "Depth=0, working on node 13: 100%|██████████| 14/14 [00:00<00:00, 490.67it/s]\n"
     ]
    },
    {
     "name": "stdout",
     "output_type": "stream",
     "text": [
      "X5 --> X3\n",
      "X6 --> X13\n",
      "X8 --> X11\n"
     ]
    },
    {
     "name": "stderr",
     "output_type": "stream",
     "text": [
      "Depth=0, working on node 13: 100%|██████████| 14/14 [00:00<00:00, 518.47it/s]\n"
     ]
    },
    {
     "name": "stdout",
     "output_type": "stream",
     "text": [
      "X6 --> X1\n",
      "X6 --> X13\n"
     ]
    },
    {
     "name": "stderr",
     "output_type": "stream",
     "text": [
      "Depth=0, working on node 13: 100%|██████████| 14/14 [00:00<00:00, 435.82it/s]\n"
     ]
    },
    {
     "name": "stdout",
     "output_type": "stream",
     "text": [
      "X5 --> X3\n",
      "X13 --> X14\n"
     ]
    },
    {
     "name": "stderr",
     "output_type": "stream",
     "text": [
      "Depth=0, working on node 13: 100%|██████████| 14/14 [00:00<00:00, 404.39it/s]\n"
     ]
    },
    {
     "name": "stdout",
     "output_type": "stream",
     "text": [
      "X9 --> X8\n",
      "X9 --> X11\n"
     ]
    },
    {
     "name": "stderr",
     "output_type": "stream",
     "text": [
      "Depth=0, working on node 13: 100%|██████████| 14/14 [00:00<00:00, 487.54it/s]\n"
     ]
    },
    {
     "name": "stdout",
     "output_type": "stream",
     "text": [
      "X6 --> X1\n",
      "X12 --> X3\n",
      "X8 --> X7\n"
     ]
    },
    {
     "name": "stderr",
     "output_type": "stream",
     "text": [
      "Depth=0, working on node 13: 100%|██████████| 14/14 [00:00<00:00, 508.44it/s]\n"
     ]
    },
    {
     "name": "stdout",
     "output_type": "stream",
     "text": [
      "X6 --> X13\n",
      "X9 --> X11\n"
     ]
    },
    {
     "name": "stderr",
     "output_type": "stream",
     "text": [
      "Depth=0, working on node 13: 100%|██████████| 14/14 [00:00<00:00, 513.14it/s]\n"
     ]
    },
    {
     "name": "stdout",
     "output_type": "stream",
     "text": [
      "X4 --> X2\n",
      "X5 --> X3\n",
      "X5 --> X12\n",
      "X7 --> X13\n",
      "X9 --> X11\n"
     ]
    },
    {
     "name": "stderr",
     "output_type": "stream",
     "text": [
      "Depth=0, working on node 13: 100%|██████████| 14/14 [00:00<00:00, 482.17it/s]\n"
     ]
    },
    {
     "name": "stdout",
     "output_type": "stream",
     "text": [
      "X4 --> X1\n",
      "X6 --> X1\n",
      "X4 --> X2\n",
      "X9 --> X8\n",
      "X9 --> X11\n",
      "X13 --> X14\n"
     ]
    },
    {
     "name": "stderr",
     "output_type": "stream",
     "text": [
      "Depth=0, working on node 13: 100%|██████████| 14/14 [00:00<00:00, 520.34it/s]\n"
     ]
    },
    {
     "name": "stdout",
     "output_type": "stream",
     "text": [
      "X4 --> X1\n",
      "X9 --> X11\n"
     ]
    },
    {
     "name": "stderr",
     "output_type": "stream",
     "text": [
      "Depth=0, working on node 13: 100%|██████████| 14/14 [00:00<00:00, 499.94it/s]\n"
     ]
    },
    {
     "name": "stdout",
     "output_type": "stream",
     "text": [
      "X12 --> X3\n",
      "X7 --> X13\n",
      "X9 --> X8\n",
      "X9 --> X11\n"
     ]
    },
    {
     "name": "stderr",
     "output_type": "stream",
     "text": [
      "Depth=0, working on node 13: 100%|██████████| 14/14 [00:00<00:00, 482.63it/s]\n"
     ]
    },
    {
     "name": "stdout",
     "output_type": "stream",
     "text": [
      "X6 --> X1\n",
      "X9 --> X8\n"
     ]
    },
    {
     "name": "stderr",
     "output_type": "stream",
     "text": [
      "Depth=0, working on node 13: 100%|██████████| 14/14 [00:00<00:00, 499.81it/s]\n"
     ]
    },
    {
     "name": "stdout",
     "output_type": "stream",
     "text": [
      "X4 --> X1\n"
     ]
    },
    {
     "name": "stderr",
     "output_type": "stream",
     "text": [
      "Depth=0, working on node 13: 100%|██████████| 14/14 [00:00<00:00, 517.45it/s]\n"
     ]
    },
    {
     "name": "stdout",
     "output_type": "stream",
     "text": [
      "X12 --> X3\n",
      "X9 --> X8\n",
      "X8 --> X11\n",
      "X9 --> X11\n"
     ]
    },
    {
     "name": "stderr",
     "output_type": "stream",
     "text": [
      "Depth=0, working on node 13: 100%|██████████| 14/14 [00:00<00:00, 532.35it/s]\n"
     ]
    },
    {
     "name": "stdout",
     "output_type": "stream",
     "text": [
      "X9 --> X11\n"
     ]
    },
    {
     "name": "stderr",
     "output_type": "stream",
     "text": [
      "Depth=0, working on node 13: 100%|██████████| 14/14 [00:00<00:00, 538.69it/s]\n"
     ]
    },
    {
     "name": "stdout",
     "output_type": "stream",
     "text": [
      "X4 --> X1\n",
      "X9 --> X8\n",
      "X9 --> X11\n",
      "X13 --> X14\n"
     ]
    },
    {
     "name": "stderr",
     "output_type": "stream",
     "text": [
      "Depth=0, working on node 13: 100%|██████████| 14/14 [00:00<00:00, 520.09it/s]\n",
      "Depth=0, working on node 13: 100%|██████████| 14/14 [00:00<00:00, 625.36it/s]\n"
     ]
    },
    {
     "name": "stdout",
     "output_type": "stream",
     "text": [
      "X4 --> X1\n",
      "X11 --> X8\n",
      "X8 --> X13\n",
      "X9 --> X11\n"
     ]
    },
    {
     "name": "stderr",
     "output_type": "stream",
     "text": [
      "Depth=0, working on node 13: 100%|██████████| 14/14 [00:00<00:00, 483.96it/s]\n"
     ]
    },
    {
     "name": "stdout",
     "output_type": "stream",
     "text": [
      "X6 --> X1\n",
      "X8 --> X13\n",
      "X9 --> X11\n",
      "X12 --> X13\n"
     ]
    },
    {
     "name": "stderr",
     "output_type": "stream",
     "text": [
      "Depth=0, working on node 13: 100%|██████████| 14/14 [00:00<00:00, 518.66it/s]\n"
     ]
    },
    {
     "name": "stdout",
     "output_type": "stream",
     "text": [
      "X4 --> X1\n",
      "X12 --> X3\n",
      "X9 --> X8\n",
      "X9 --> X11\n"
     ]
    },
    {
     "name": "stderr",
     "output_type": "stream",
     "text": [
      "Depth=0, working on node 13: 100%|██████████| 14/14 [00:00<00:00, 542.78it/s]\n"
     ]
    },
    {
     "name": "stdout",
     "output_type": "stream",
     "text": [
      "X9 --> X11\n"
     ]
    },
    {
     "name": "stderr",
     "output_type": "stream",
     "text": [
      "Depth=0, working on node 13: 100%|██████████| 14/14 [00:00<00:00, 563.56it/s]\n"
     ]
    },
    {
     "name": "stdout",
     "output_type": "stream",
     "text": [
      "X12 --> X3\n",
      "X9 --> X8\n",
      "X8 --> X11\n"
     ]
    },
    {
     "name": "stderr",
     "output_type": "stream",
     "text": [
      "Depth=0, working on node 13: 100%|██████████| 14/14 [00:00<00:00, 437.51it/s]\n"
     ]
    },
    {
     "name": "stdout",
     "output_type": "stream",
     "text": [
      "X4 --> X1\n",
      "X6 --> X13\n",
      "X9 --> X8\n"
     ]
    },
    {
     "name": "stderr",
     "output_type": "stream",
     "text": [
      "Depth=0, working on node 13: 100%|██████████| 14/14 [00:00<00:00, 457.76it/s]\n"
     ]
    },
    {
     "name": "stdout",
     "output_type": "stream",
     "text": [
      "X6 --> X4\n",
      "X9 --> X8\n",
      "X9 --> X11\n"
     ]
    },
    {
     "name": "stderr",
     "output_type": "stream",
     "text": [
      "Depth=0, working on node 13: 100%|██████████| 14/14 [00:00<00:00, 528.58it/s]\n"
     ]
    },
    {
     "name": "stdout",
     "output_type": "stream",
     "text": [
      "X8 --> X14\n",
      "X9 --> X11\n",
      "X11 --> X14\n"
     ]
    },
    {
     "name": "stderr",
     "output_type": "stream",
     "text": [
      "Depth=0, working on node 13: 100%|██████████| 14/14 [00:00<00:00, 583.55it/s]\n"
     ]
    },
    {
     "name": "stdout",
     "output_type": "stream",
     "text": [
      "X4 --> X1\n",
      "X9 --> X11\n"
     ]
    },
    {
     "name": "stderr",
     "output_type": "stream",
     "text": [
      "Depth=0, working on node 13: 100%|██████████| 14/14 [00:00<00:00, 328.44it/s]\n"
     ]
    },
    {
     "name": "stdout",
     "output_type": "stream",
     "text": [
      "X4 --> X1\n",
      "X9 --> X8\n",
      "X8 --> X14\n",
      "X9 --> X11\n",
      "X11 --> X14\n"
     ]
    },
    {
     "name": "stderr",
     "output_type": "stream",
     "text": [
      "Depth=0, working on node 13: 100%|██████████| 14/14 [00:00<00:00, 518.62it/s]\n"
     ]
    },
    {
     "name": "stdout",
     "output_type": "stream",
     "text": [
      "X5 --> X4\n",
      "X6 --> X4\n",
      "X9 --> X8\n",
      "X9 --> X11\n"
     ]
    },
    {
     "name": "stderr",
     "output_type": "stream",
     "text": [
      "Depth=0, working on node 13: 100%|██████████| 14/14 [00:00<00:00, 528.94it/s]\n"
     ]
    },
    {
     "name": "stdout",
     "output_type": "stream",
     "text": [
      "X6 --> X1\n",
      "X9 --> X11\n"
     ]
    },
    {
     "name": "stderr",
     "output_type": "stream",
     "text": [
      "Depth=0, working on node 13: 100%|██████████| 14/14 [00:00<00:00, 463.32it/s]\n"
     ]
    },
    {
     "name": "stdout",
     "output_type": "stream",
     "text": [
      "X3 --> X13\n",
      "X8 --> X13\n"
     ]
    },
    {
     "name": "stderr",
     "output_type": "stream",
     "text": [
      "Depth=0, working on node 13: 100%|██████████| 14/14 [00:00<00:00, 494.74it/s]\n"
     ]
    },
    {
     "name": "stdout",
     "output_type": "stream",
     "text": [
      "X5 --> X4\n",
      "X8 --> X11\n"
     ]
    },
    {
     "name": "stderr",
     "output_type": "stream",
     "text": [
      "Depth=0, working on node 13: 100%|██████████| 14/14 [00:00<00:00, 483.04it/s]\n"
     ]
    },
    {
     "name": "stdout",
     "output_type": "stream",
     "text": [
      "X6 --> X1\n",
      "X9 --> X8\n",
      "X8 --> X11\n",
      "X9 --> X11\n"
     ]
    },
    {
     "name": "stderr",
     "output_type": "stream",
     "text": [
      "Depth=0, working on node 13: 100%|██████████| 14/14 [00:00<00:00, 518.89it/s]\n"
     ]
    },
    {
     "name": "stdout",
     "output_type": "stream",
     "text": [
      "\n",
      "Top edges across bootstraps (PC algorithm):\n",
      "============================================================\n",
      "Node1           Node2           End1       End2       Count     \n",
      "------------------------------------------------------------\n",
      "X1              X10             CIRCLE     ARROW      100       \n",
      "X2              X10             CIRCLE     ARROW      100       \n",
      "X3              X4              ARROW      ARROW      100       \n",
      "X3              X9              ARROW      ARROW      100       \n",
      "X3              X10             CIRCLE     ARROW      100       \n",
      "X4              X7              ARROW      ARROW      100       \n",
      "X4              X10             CIRCLE     ARROW      100       \n",
      "X5              X10             CIRCLE     ARROW      100       \n",
      "X6              X10             CIRCLE     ARROW      100       \n",
      "X7              X9              ARROW      ARROW      100       \n",
      "X7              X10             CIRCLE     ARROW      100       \n",
      "X7              X14             ARROW      ARROW      100       \n",
      "X8              X10             CIRCLE     ARROW      100       \n",
      "X9              X10             CIRCLE     ARROW      100       \n",
      "X9              X12             ARROW      ARROW      100       \n",
      "X11             X10             CIRCLE     ARROW      100       \n",
      "X12             X10             CIRCLE     ARROW      100       \n",
      "X13             X10             CIRCLE     ARROW      100       \n",
      "X14             X10             CIRCLE     ARROW      100       \n",
      "X1              X13             ARROW      ARROW      99        \n",
      "X3              X13             ARROW      ARROW      99        \n",
      "X6              X14             ARROW      ARROW      99        \n",
      "X2              X3              ARROW      ARROW      98        \n",
      "X2              X5              ARROW      ARROW      98        \n",
      "X2              X6              ARROW      ARROW      98        \n",
      "X12             X14             ARROW      ARROW      98        \n",
      "X5              X14             ARROW      ARROW      97        \n",
      "X8              X12             ARROW      ARROW      97        \n",
      "X11             X14             ARROW      ARROW      97        \n",
      "X1              X2              ARROW      ARROW      96        \n",
      "X7              X8              ARROW      ARROW      96        \n",
      "X2              X7              ARROW      ARROW      95        \n",
      "X4              X14             ARROW      ARROW      93        \n",
      "X1              X12             ARROW      ARROW      92        \n",
      "X8              X13             ARROW      ARROW      92        \n",
      "X4              X12             ARROW      ARROW      89        \n",
      "X1              X14             ARROW      ARROW      88        \n",
      "X3              X6              ARROW      ARROW      88        \n",
      "X2              X12             ARROW      ARROW      86        \n",
      "X3              X12             ARROW      ARROW      85        \n",
      "X6              X12             ARROW      ARROW      82        \n",
      "X2              X4              ARROW      ARROW      81        \n",
      "X12             X13             ARROW      ARROW      79        \n",
      "X8              X14             ARROW      ARROW      78        \n",
      "X6              X7              ARROW      ARROW      76        \n",
      "X3              X11             ARROW      ARROW      75        \n",
      "X13             X14             ARROW      ARROW      75        \n",
      "X3              X14             ARROW      ARROW      72        \n",
      "X11             X12             ARROW      ARROW      72        \n",
      "X11             X13             ARROW      ARROW      72        \n",
      "X4              X8              ARROW      ARROW      69        \n",
      "X2              X13             ARROW      ARROW      68        \n",
      "X8              X11             ARROW      ARROW      67        \n",
      "X1              X4              ARROW      ARROW      64        \n",
      "X1              X6              ARROW      ARROW      57        \n",
      "X4              X6              ARROW      ARROW      57        \n",
      "X9              X11             TAIL       ARROW      57        \n",
      "X7              X13             ARROW      ARROW      56        \n",
      "X4              X11             ARROW      ARROW      55        \n",
      "X1              X5              ARROW      ARROW      53        \n",
      "X3              X5              ARROW      ARROW      50        \n",
      "X4              X5              ARROW      ARROW      49        \n",
      "X5              X4              CIRCLE     ARROW      45        \n",
      "X9              X11             ARROW      ARROW      43        \n",
      "X6              X4              CIRCLE     ARROW      38        \n",
      "X6              X1              TAIL       ARROW      37        \n",
      "X9              X8              TAIL       ARROW      37        \n",
      "X5              X3              CIRCLE     ARROW      35        \n",
      "X5              X7              ARROW      ARROW      33        \n",
      "X6              X8              ARROW      ARROW      31        \n",
      "X6              X13             ARROW      ARROW      31        \n",
      "X4              X1              TAIL       ARROW      31        \n",
      "X5              X13             ARROW      ARROW      30        \n",
      "X8              X9              ARROW      ARROW      30        \n",
      "X5              X1              CIRCLE     ARROW      28        \n",
      "X11             X12             CIRCLE     ARROW      25        \n",
      "X8              X11             TAIL       ARROW      22        \n",
      "X2              X8              ARROW      ARROW      22        \n",
      "X13             X12             CIRCLE     ARROW      19        \n",
      "X5              X1              TAIL       ARROW      19        \n",
      "X6              X12             CIRCLE     ARROW      17        \n",
      "X8              X14             CIRCLE     ARROW      15        \n",
      "X5              X3              TAIL       ARROW      14        \n",
      "X2              X4              CIRCLE     ARROW      13        \n",
      "X1              X8              ARROW      ARROW      13        \n",
      "X13             X14             TAIL       ARROW      13        \n",
      "X5              X8              ARROW      ARROW      13        \n",
      "X13             X14             CIRCLE     ARROW      12        \n",
      "X6              X11             ARROW      ARROW      10        \n",
      "X6              X3              CIRCLE     ARROW      9         \n",
      "X12             X3              TAIL       ARROW      8         \n",
      "X11             X8              CIRCLE     ARROW      7         \n",
      "X8              X13             TAIL       ARROW      6         \n",
      "X8              X14             TAIL       ARROW      6         \n",
      "X5              X4              TAIL       ARROW      6         \n",
      "X6              X1              CIRCLE     ARROW      6         \n",
      "X7              X13             TAIL       ARROW      6         \n",
      "X2              X7              TAIL       ARROW      5         \n",
      "X11             X13             TAIL       ARROW      5         \n",
      "X6              X4              TAIL       ARROW      5         \n",
      "X5              X12             ARROW      ARROW      5         \n",
      "X6              X13             TAIL       ARROW      5         \n",
      "X3              X12             CIRCLE     ARROW      4         \n",
      "X11             X8              TAIL       ARROW      4         \n",
      "X2              X9              ARROW      ARROW      4         \n",
      "X4              X2              TAIL       ARROW      4         \n",
      "X5              X9              ARROW      ARROW      4         \n",
      "X3              X12             TAIL       ARROW      3         \n",
      "X1              X9              ARROW      ARROW      3         \n",
      "X6              X3              TAIL       ARROW      3         \n",
      "X11             X14             TAIL       ARROW      3         \n",
      "X5              X12             CIRCLE     ARROW      2         \n",
      "X5              X12             TAIL       ARROW      2         \n",
      "X8              X1              TAIL       ARROW      2         \n",
      "X2              X1              TAIL       ARROW      2         \n",
      "X1              X3              ARROW      ARROW      2         \n",
      "X2              X3              TAIL       ARROW      2         \n",
      "X2              X4              TAIL       ARROW      2         \n",
      "X1              X14             TAIL       ARROW      2         \n",
      "X5              X11             ARROW      ARROW      2         \n",
      "X4              X14             CIRCLE     ARROW      2         \n",
      "X8              X13             CIRCLE     ARROW      2         \n",
      "X5              X14             CIRCLE     ARROW      2         \n",
      "X3              X8              ARROW      ARROW      2         \n",
      "X7              X8              TAIL       ARROW      2         \n",
      "X1              X2              CIRCLE     ARROW      2         \n",
      "X11             X12             TAIL       ARROW      2         \n",
      "X1              X12             CIRCLE     ARROW      1         \n",
      "X14             X8              TAIL       ARROW      1         \n",
      "X2              X12             TAIL       ARROW      1         \n",
      "X4              X12             TAIL       ARROW      1         \n",
      "X13             X12             TAIL       ARROW      1         \n",
      "X14             X3              TAIL       ARROW      1         \n",
      "X2              X14             ARROW      ARROW      1         \n",
      "X5              X14             TAIL       ARROW      1         \n",
      "X6              X2              TAIL       ARROW      1         \n",
      "X6              X14             TAIL       ARROW      1         \n",
      "X8              X4              CIRCLE     ARROW      1         \n",
      "X2              X6              TAIL       ARROW      1         \n",
      "X13             X6              TAIL       ARROW      1         \n",
      "X4              X14             TAIL       ARROW      1         \n",
      "X12             X6              TAIL       ARROW      1         \n",
      "X1              X3              CIRCLE     ARROW      1         \n",
      "X1              X4              TAIL       ARROW      1         \n",
      "X2              X13             TAIL       ARROW      1         \n",
      "X12             X8              TAIL       ARROW      1         \n",
      "X8              X7              TAIL       ARROW      1         \n",
      "X9              X8              CIRCLE     ARROW      1         \n",
      "X1              X11             ARROW      ARROW      1         \n",
      "X12             X13             TAIL       ARROW      1         \n",
      "X7              X8              CIRCLE     ARROW      1         \n",
      "X3              X13             TAIL       ARROW      1         \n"
     ]
    }
   ],
   "source": [
    "# Parameters\n",
    "n_bootstrap = 100\n",
    "fci_graphs = []\n",
    "\n",
    "# Run bootstrapped FCI\n",
    "for i in range(n_bootstrap):\n",
    "    # Resample with replacement\n",
    "    boot_data = resample(data_array_steel, replace=True)\n",
    "    # Run FCI\n",
    "    g_duration, edges_duration = fci(dataset=boot_data, independence_test_method=fisherz,verbose=False) \n",
    "    fci_graphs.append(g_duration)\n",
    "\n",
    "edge_counts = defaultdict(int)\n",
    "\n",
    "for g in fci_graphs:\n",
    "    for edge in g.get_graph_edges():\n",
    "        node1 = edge.node1\n",
    "        node2 = edge.node2\n",
    "        # Convert endpoints to string representations\n",
    "        endpoint1 = edge.get_endpoint1().name\n",
    "        endpoint2 = edge.get_endpoint2().name\n",
    "\n",
    "        key = (node1.get_name(), node2.get_name(), endpoint1, endpoint2)\n",
    "        edge_counts[key] += 1\n",
    "\n",
    "# Print the top edges\n",
    "print(\"\\nTop edges across bootstraps (PC algorithm):\")\n",
    "print(\"=\" * 60)\n",
    "print(\"{:<15} {:<15} {:<10} {:<10} {:<10}\".format(\"Node1\", \"Node2\", \"End1\", \"End2\", \"Count\"))\n",
    "print(\"-\" * 60)\n",
    "for edge, count in sorted(edge_counts.items(), key=lambda x: x[1], reverse=True):\n",
    "    node1, node2, end1, end2 = edge\n",
    "    print(\"{:<15} {:<15} {:<10} {:<10} {:<10}\".format(node1, node2, end1, end2, count))\n"
   ]
  },
  {
   "cell_type": "code",
   "execution_count": 24,
   "id": "87e10bd6",
   "metadata": {},
   "outputs": [
    {
     "name": "stderr",
     "output_type": "stream",
     "text": [
      "c:\\Users\\jmeri\\AppData\\Local\\Programs\\Python\\Python311\\Lib\\site-packages\\causallearn\\score\\LocalScoreFunction.py:69: RuntimeWarning: divide by zero encountered in log\n",
      "  return n * np.log(cov[i, i])\n",
      "c:\\Users\\jmeri\\AppData\\Local\\Programs\\Python\\Python311\\Lib\\site-packages\\causallearn\\score\\LocalScoreFunction.py:73: RuntimeWarning: divide by zero encountered in log\n",
      "  H = np.log(cov[i, i] - yX @ np.linalg.inv(XX) @ yX.T)\n",
      "c:\\Users\\jmeri\\AppData\\Local\\Programs\\Python\\Python311\\Lib\\site-packages\\causallearn\\utils\\GESUtils.py:253: RuntimeWarning: invalid value encountered in subtract\n",
      "  ch_score = score1 - score2\n"
     ]
    },
    {
     "ename": "LinAlgError",
     "evalue": "Singular matrix",
     "output_type": "error",
     "traceback": [
      "\u001b[1;31m---------------------------------------------------------------------------\u001b[0m",
      "\u001b[1;31mLinAlgError\u001b[0m                               Traceback (most recent call last)",
      "Cell \u001b[1;32mIn[24], line 12\u001b[0m\n\u001b[0;32m      9\u001b[0m bootstrap_sample \u001b[38;5;241m=\u001b[39m resample(data_steel, replace\u001b[38;5;241m=\u001b[39m\u001b[38;5;28;01mTrue\u001b[39;00m, random_state\u001b[38;5;241m=\u001b[39mnp\u001b[38;5;241m.\u001b[39mrandom\u001b[38;5;241m.\u001b[39mrandint(\u001b[38;5;241m0\u001b[39m, \u001b[38;5;241m10000\u001b[39m))\n\u001b[0;32m     11\u001b[0m \u001b[38;5;66;03m# Apply GES\u001b[39;00m\n\u001b[1;32m---> 12\u001b[0m ges_result \u001b[38;5;241m=\u001b[39m \u001b[43mges\u001b[49m\u001b[43m(\u001b[49m\u001b[43mbootstrap_sample\u001b[49m\u001b[38;5;241;43m.\u001b[39;49m\u001b[43mto_numpy\u001b[49m\u001b[43m(\u001b[49m\u001b[43m)\u001b[49m\u001b[43m)\u001b[49m\n\u001b[0;32m     14\u001b[0m \u001b[38;5;66;03m# Extract edges from the resulting CPDAG\u001b[39;00m\n\u001b[0;32m     15\u001b[0m cpdag \u001b[38;5;241m=\u001b[39m ges_result[\u001b[38;5;124m'\u001b[39m\u001b[38;5;124mG\u001b[39m\u001b[38;5;124m'\u001b[39m]\n",
      "File \u001b[1;32mc:\\Users\\jmeri\\AppData\\Local\\Programs\\Python\\Python311\\Lib\\site-packages\\causallearn\\search\\ScoreBased\\GES.py:214\u001b[0m, in \u001b[0;36mges\u001b[1;34m(X, score_func, maxP, parameters, node_names)\u001b[0m\n\u001b[0;32m    209\u001b[0m Idx \u001b[38;5;241m=\u001b[39m find_subset_include(\n\u001b[0;32m    210\u001b[0m     sub[k], sub\n\u001b[0;32m    211\u001b[0m )  \u001b[38;5;66;03m# find those subsets that include sub(k)\u001b[39;00m\n\u001b[0;32m    212\u001b[0m S[np\u001b[38;5;241m.\u001b[39mwhere(Idx \u001b[38;5;241m==\u001b[39m \u001b[38;5;241m1\u001b[39m)] \u001b[38;5;241m=\u001b[39m \u001b[38;5;241m1\u001b[39m\n\u001b[0;32m    213\u001b[0m chscore, desc, record_local_score \u001b[38;5;241m=\u001b[39m (\n\u001b[1;32m--> 214\u001b[0m     \u001b[43minsert_changed_score\u001b[49m\u001b[43m(\u001b[49m\n\u001b[0;32m    215\u001b[0m \u001b[43m        \u001b[49m\u001b[43mX\u001b[49m\u001b[43m,\u001b[49m\n\u001b[0;32m    216\u001b[0m \u001b[43m        \u001b[49m\u001b[43mG\u001b[49m\u001b[43m,\u001b[49m\n\u001b[0;32m    217\u001b[0m \u001b[43m        \u001b[49m\u001b[43mi\u001b[49m\u001b[43m,\u001b[49m\n\u001b[0;32m    218\u001b[0m \u001b[43m        \u001b[49m\u001b[43mj\u001b[49m\u001b[43m,\u001b[49m\n\u001b[0;32m    219\u001b[0m \u001b[43m        \u001b[49m\u001b[43msub\u001b[49m\u001b[43m[\u001b[49m\u001b[43mk\u001b[49m\u001b[43m]\u001b[49m\u001b[43m,\u001b[49m\n\u001b[0;32m    220\u001b[0m \u001b[43m        \u001b[49m\u001b[43mrecord_local_score\u001b[49m\u001b[43m,\u001b[49m\n\u001b[0;32m    221\u001b[0m \u001b[43m        \u001b[49m\u001b[43mscore_func\u001b[49m\u001b[43m,\u001b[49m\n\u001b[0;32m    222\u001b[0m \u001b[43m        \u001b[49m\u001b[43mparameters\u001b[49m\u001b[43m,\u001b[49m\n\u001b[0;32m    223\u001b[0m \u001b[43m    \u001b[49m\u001b[43m)\u001b[49m\n\u001b[0;32m    224\u001b[0m )\n\u001b[0;32m    225\u001b[0m \u001b[38;5;66;03m# calculate the changed score after Insert operator\u001b[39;00m\n\u001b[0;32m    226\u001b[0m \u001b[38;5;66;03m# desc{count} saves the corresponding (i,j,sub{k})\u001b[39;00m\n\u001b[0;32m    227\u001b[0m \u001b[38;5;66;03m# sub{k}:\u001b[39;00m\n\u001b[0;32m    228\u001b[0m \u001b[38;5;28;01mif\u001b[39;00m chscore \u001b[38;5;241m<\u001b[39m min_chscore:\n",
      "File \u001b[1;32mc:\\Users\\jmeri\\AppData\\Local\\Programs\\Python\\Python311\\Lib\\site-packages\\causallearn\\utils\\GESUtils.py:238\u001b[0m, in \u001b[0;36minsert_changed_score\u001b[1;34m(Data, G, i, j, T, record_local_score, score_func, parameters)\u001b[0m\n\u001b[0;32m    235\u001b[0m         \u001b[38;5;28;01mbreak\u001b[39;00m\n\u001b[0;32m    237\u001b[0m \u001b[38;5;28;01mif\u001b[39;00m \u001b[38;5;129;01mnot\u001b[39;00m s1:\n\u001b[1;32m--> 238\u001b[0m     score1 \u001b[38;5;241m=\u001b[39m \u001b[43mfeval\u001b[49m\u001b[43m(\u001b[49m\u001b[43m[\u001b[49m\u001b[43mscore_func\u001b[49m\u001b[43m,\u001b[49m\u001b[43m \u001b[49m\u001b[43mData\u001b[49m\u001b[43m,\u001b[49m\u001b[43m \u001b[49m\u001b[43mj\u001b[49m\u001b[43m,\u001b[49m\u001b[43m \u001b[49m\u001b[43mtmp3\u001b[49m\u001b[43m,\u001b[49m\u001b[43m \u001b[49m\u001b[43mparameters\u001b[49m\u001b[43m]\u001b[49m\u001b[43m)\u001b[49m\n\u001b[0;32m    239\u001b[0m     temp \u001b[38;5;241m=\u001b[39m \u001b[38;5;28mlist\u001b[39m(tmp3)\n\u001b[0;32m    240\u001b[0m     temp\u001b[38;5;241m.\u001b[39mappend(score1)\n",
      "File \u001b[1;32mc:\\Users\\jmeri\\AppData\\Local\\Programs\\Python\\Python311\\Lib\\site-packages\\causallearn\\utils\\GESUtils.py:11\u001b[0m, in \u001b[0;36mfeval\u001b[1;34m(parameters)\u001b[0m\n\u001b[0;32m     10\u001b[0m \u001b[38;5;28;01mdef\u001b[39;00m \u001b[38;5;21mfeval\u001b[39m(parameters: \u001b[38;5;28mlist\u001b[39m):\n\u001b[1;32m---> 11\u001b[0m     \u001b[38;5;28;01mreturn\u001b[39;00m \u001b[43mparameters\u001b[49m\u001b[43m[\u001b[49m\u001b[38;5;241;43m0\u001b[39;49m\u001b[43m]\u001b[49m\u001b[38;5;241;43m.\u001b[39;49m\u001b[43mscore\u001b[49m\u001b[43m(\u001b[49m\u001b[43mparameters\u001b[49m\u001b[43m[\u001b[49m\u001b[38;5;241;43m2\u001b[39;49m\u001b[43m]\u001b[49m\u001b[43m,\u001b[49m\u001b[43m \u001b[49m\u001b[43mparameters\u001b[49m\u001b[43m[\u001b[49m\u001b[38;5;241;43m3\u001b[39;49m\u001b[43m]\u001b[49m\u001b[43m)\u001b[49m\n",
      "File \u001b[1;32mc:\\Users\\jmeri\\AppData\\Local\\Programs\\Python\\Python311\\Lib\\site-packages\\causallearn\\score\\LocalScoreFunctionClass.py:44\u001b[0m, in \u001b[0;36mLocalScoreClass.score\u001b[1;34m(self, i, PAi)\u001b[0m\n\u001b[0;32m     42\u001b[0m \u001b[38;5;28;01mif\u001b[39;00m \u001b[38;5;129;01mnot\u001b[39;00m \u001b[38;5;28mself\u001b[39m\u001b[38;5;241m.\u001b[39mscore_cache[i]\u001b[38;5;241m.\u001b[39m\u001b[38;5;21m__contains__\u001b[39m(hash_key):\n\u001b[0;32m     43\u001b[0m     \u001b[38;5;28;01mif\u001b[39;00m \u001b[38;5;28mself\u001b[39m\u001b[38;5;241m.\u001b[39mlocal_score_fun\u001b[38;5;241m.\u001b[39m\u001b[38;5;18m__name__\u001b[39m \u001b[38;5;241m==\u001b[39m \u001b[38;5;124m'\u001b[39m\u001b[38;5;124mlocal_score_BIC_from_cov\u001b[39m\u001b[38;5;124m'\u001b[39m:\n\u001b[1;32m---> 44\u001b[0m         \u001b[38;5;28mself\u001b[39m\u001b[38;5;241m.\u001b[39mscore_cache[i][hash_key] \u001b[38;5;241m=\u001b[39m \u001b[38;5;28;43mself\u001b[39;49m\u001b[38;5;241;43m.\u001b[39;49m\u001b[43mlocal_score_fun\u001b[49m\u001b[43m(\u001b[49m\u001b[43m(\u001b[49m\u001b[38;5;28;43mself\u001b[39;49m\u001b[38;5;241;43m.\u001b[39;49m\u001b[43mcov\u001b[49m\u001b[43m,\u001b[49m\u001b[43m \u001b[49m\u001b[38;5;28;43mself\u001b[39;49m\u001b[38;5;241;43m.\u001b[39;49m\u001b[43mn\u001b[49m\u001b[43m)\u001b[49m\u001b[43m,\u001b[49m\u001b[43m \u001b[49m\u001b[43mi\u001b[49m\u001b[43m,\u001b[49m\u001b[43m \u001b[49m\u001b[43mPAi\u001b[49m\u001b[43m,\u001b[49m\u001b[43m \u001b[49m\u001b[38;5;28;43mself\u001b[39;49m\u001b[38;5;241;43m.\u001b[39;49m\u001b[43mparameters\u001b[49m\u001b[43m)\u001b[49m\n\u001b[0;32m     45\u001b[0m     \u001b[38;5;28;01melse\u001b[39;00m:\n\u001b[0;32m     46\u001b[0m         \u001b[38;5;28mself\u001b[39m\u001b[38;5;241m.\u001b[39mscore_cache[i][hash_key] \u001b[38;5;241m=\u001b[39m \u001b[38;5;28mself\u001b[39m\u001b[38;5;241m.\u001b[39mlocal_score_fun(\u001b[38;5;28mself\u001b[39m\u001b[38;5;241m.\u001b[39mdata, i, PAi, \u001b[38;5;28mself\u001b[39m\u001b[38;5;241m.\u001b[39mparameters)\n",
      "File \u001b[1;32mc:\\Users\\jmeri\\AppData\\Local\\Programs\\Python\\Python311\\Lib\\site-packages\\causallearn\\score\\LocalScoreFunction.py:73\u001b[0m, in \u001b[0;36mlocal_score_BIC_from_cov\u001b[1;34m(Data, i, PAi, parameters)\u001b[0m\n\u001b[0;32m     71\u001b[0m yX \u001b[38;5;241m=\u001b[39m cov[np\u001b[38;5;241m.\u001b[39mix_([i], PAi)]\n\u001b[0;32m     72\u001b[0m XX \u001b[38;5;241m=\u001b[39m cov[np\u001b[38;5;241m.\u001b[39mix_(PAi, PAi)]\n\u001b[1;32m---> 73\u001b[0m H \u001b[38;5;241m=\u001b[39m np\u001b[38;5;241m.\u001b[39mlog(cov[i, i] \u001b[38;5;241m-\u001b[39m yX \u001b[38;5;241m@\u001b[39m \u001b[43mnp\u001b[49m\u001b[38;5;241;43m.\u001b[39;49m\u001b[43mlinalg\u001b[49m\u001b[38;5;241;43m.\u001b[39;49m\u001b[43minv\u001b[49m\u001b[43m(\u001b[49m\u001b[43mXX\u001b[49m\u001b[43m)\u001b[49m \u001b[38;5;241m@\u001b[39m yX\u001b[38;5;241m.\u001b[39mT)\n\u001b[0;32m     75\u001b[0m \u001b[38;5;28;01mreturn\u001b[39;00m n \u001b[38;5;241m*\u001b[39m H \u001b[38;5;241m+\u001b[39m np\u001b[38;5;241m.\u001b[39mlog(n) \u001b[38;5;241m*\u001b[39m \u001b[38;5;28mlen\u001b[39m(PAi) \u001b[38;5;241m*\u001b[39m lambda_value\n",
      "File \u001b[1;32mc:\\Users\\jmeri\\AppData\\Local\\Programs\\Python\\Python311\\Lib\\site-packages\\numpy\\linalg\\_linalg.py:608\u001b[0m, in \u001b[0;36minv\u001b[1;34m(a)\u001b[0m\n\u001b[0;32m    605\u001b[0m signature \u001b[38;5;241m=\u001b[39m \u001b[38;5;124m'\u001b[39m\u001b[38;5;124mD->D\u001b[39m\u001b[38;5;124m'\u001b[39m \u001b[38;5;28;01mif\u001b[39;00m isComplexType(t) \u001b[38;5;28;01melse\u001b[39;00m \u001b[38;5;124m'\u001b[39m\u001b[38;5;124md->d\u001b[39m\u001b[38;5;124m'\u001b[39m\n\u001b[0;32m    606\u001b[0m \u001b[38;5;28;01mwith\u001b[39;00m errstate(call\u001b[38;5;241m=\u001b[39m_raise_linalgerror_singular, invalid\u001b[38;5;241m=\u001b[39m\u001b[38;5;124m'\u001b[39m\u001b[38;5;124mcall\u001b[39m\u001b[38;5;124m'\u001b[39m,\n\u001b[0;32m    607\u001b[0m               over\u001b[38;5;241m=\u001b[39m\u001b[38;5;124m'\u001b[39m\u001b[38;5;124mignore\u001b[39m\u001b[38;5;124m'\u001b[39m, divide\u001b[38;5;241m=\u001b[39m\u001b[38;5;124m'\u001b[39m\u001b[38;5;124mignore\u001b[39m\u001b[38;5;124m'\u001b[39m, under\u001b[38;5;241m=\u001b[39m\u001b[38;5;124m'\u001b[39m\u001b[38;5;124mignore\u001b[39m\u001b[38;5;124m'\u001b[39m):\n\u001b[1;32m--> 608\u001b[0m     ainv \u001b[38;5;241m=\u001b[39m \u001b[43m_umath_linalg\u001b[49m\u001b[38;5;241;43m.\u001b[39;49m\u001b[43minv\u001b[49m\u001b[43m(\u001b[49m\u001b[43ma\u001b[49m\u001b[43m,\u001b[49m\u001b[43m \u001b[49m\u001b[43msignature\u001b[49m\u001b[38;5;241;43m=\u001b[39;49m\u001b[43msignature\u001b[49m\u001b[43m)\u001b[49m\n\u001b[0;32m    609\u001b[0m \u001b[38;5;28;01mreturn\u001b[39;00m wrap(ainv\u001b[38;5;241m.\u001b[39mastype(result_t, copy\u001b[38;5;241m=\u001b[39m\u001b[38;5;28;01mFalse\u001b[39;00m))\n",
      "File \u001b[1;32mc:\\Users\\jmeri\\AppData\\Local\\Programs\\Python\\Python311\\Lib\\site-packages\\numpy\\linalg\\_linalg.py:104\u001b[0m, in \u001b[0;36m_raise_linalgerror_singular\u001b[1;34m(err, flag)\u001b[0m\n\u001b[0;32m    103\u001b[0m \u001b[38;5;28;01mdef\u001b[39;00m \u001b[38;5;21m_raise_linalgerror_singular\u001b[39m(err, flag):\n\u001b[1;32m--> 104\u001b[0m     \u001b[38;5;28;01mraise\u001b[39;00m LinAlgError(\u001b[38;5;124m\"\u001b[39m\u001b[38;5;124mSingular matrix\u001b[39m\u001b[38;5;124m\"\u001b[39m)\n",
      "\u001b[1;31mLinAlgError\u001b[0m: Singular matrix"
     ]
    }
   ],
   "source": [
    "# Number of bootstrap samples\n",
    "n_bootstrap_samples = 100\n",
    "\n",
    "# Collect edges across bootstraps\n",
    "edge_counts = defaultdict(int)\n",
    "\n",
    "for _ in range(n_bootstrap_samples):\n",
    "    # Bootstrap sample\n",
    "    bootstrap_sample = resample(data_steel, replace=True, random_state=np.random.randint(0, 10000))\n",
    "\n",
    "    # Apply GES\n",
    "    ges_result = ges(bootstrap_sample.to_numpy())\n",
    "\n",
    "    # Extract edges from the resulting CPDAG\n",
    "    cpdag = ges_result['G']\n",
    "    for edge in cpdag.get_graph_edges():\n",
    "        node1 = edge.node1\n",
    "        node2 = edge.node2\n",
    "        # Convert endpoints to string representations\n",
    "        endpoint1 = edge.get_endpoint1().name\n",
    "        endpoint2 = edge.get_endpoint2().name\n",
    "\n",
    "        # Create a sorted key to avoid counting A->B and B->A as different\n",
    "        if node1.get_name() < node2.get_name():\n",
    "            key = (node1.get_name(), node2.get_name(), endpoint1, endpoint2)\n",
    "        else:\n",
    "            key = (node2.get_name(), node1.get_name(), endpoint2, endpoint1)\n",
    "            \n",
    "        edge_counts[key] += 1\n",
    "\n",
    "# Print the top edges\n",
    "print(\"\\nTop edges across bootstraps:\")\n",
    "print(\"=\" * 60)\n",
    "print(\"{:<15} {:<15} {:<10} {:<10} {:<10}\".format(\"Node1\", \"Node2\", \"End1\", \"End2\", \"Count\"))\n",
    "print(\"-\" * 60)\n",
    "for edge, count in sorted(edge_counts.items(), key=lambda x: x[1], reverse=True):\n",
    "    node1, node2, end1, end2 = edge\n",
    "    print(\"{:<15} {:<15} {:<10} {:<10} {:<10}\".format(node1, node2, end1, end2, count))\n"
   ]
  },
  {
   "cell_type": "code",
   "execution_count": 25,
   "id": "c0f97e38",
   "metadata": {},
   "outputs": [
    {
     "name": "stderr",
     "output_type": "stream",
     "text": [
      "Depth=12, working on node 13: 100%|██████████| 14/14 [00:00<00:00, 823.54it/s] \n",
      "Depth=12, working on node 13: 100%|██████████| 14/14 [00:00<00:00, 999.43it/s] \n",
      "Depth=12, working on node 13: 100%|██████████| 14/14 [00:00<00:00, 1084.06it/s]\n",
      "Depth=12, working on node 13: 100%|██████████| 14/14 [00:00<00:00, 892.69it/s]\n",
      "Depth=12, working on node 13: 100%|██████████| 14/14 [00:00<00:00, 1012.75it/s]\n",
      "Depth=12, working on node 13: 100%|██████████| 14/14 [00:00<00:00, 933.49it/s] \n",
      "Depth=12, working on node 13: 100%|██████████| 14/14 [00:00<00:00, 1118.31it/s]\n",
      "Depth=12, working on node 13: 100%|██████████| 14/14 [00:00<00:00, 1104.24it/s]\n",
      "Depth=12, working on node 13: 100%|██████████| 14/14 [00:00<00:00, 938.43it/s] \n",
      "Depth=12, working on node 13: 100%|██████████| 14/14 [00:00<00:00, 965.10it/s] \n",
      "Depth=12, working on node 13: 100%|██████████| 14/14 [00:00<00:00, 1000.00it/s]\n",
      "Depth=12, working on node 13: 100%|██████████| 14/14 [00:00<00:00, 796.28it/s]\n",
      "Depth=12, working on node 13: 100%|██████████| 14/14 [00:00<00:00, 933.22it/s] \n",
      "Depth=12, working on node 13: 100%|██████████| 14/14 [00:00<00:00, 1016.71it/s]\n",
      "Depth=12, working on node 13: 100%|██████████| 14/14 [00:00<00:00, 1554.80it/s]\n",
      "Depth=12, working on node 13: 100%|██████████| 14/14 [00:00<00:00, 1272.76it/s]\n",
      "Depth=12, working on node 13: 100%|██████████| 14/14 [00:00<00:00, 1166.50it/s]\n",
      "Depth=12, working on node 13: 100%|██████████| 14/14 [00:00<00:00, 247.74it/s]\n",
      "Depth=12, working on node 13: 100%|██████████| 14/14 [00:00<00:00, 999.63it/s] \n",
      "Depth=12, working on node 13: 100%|██████████| 14/14 [00:00<00:00, 1155.36it/s]\n",
      "Depth=12, working on node 13: 100%|██████████| 14/14 [00:00<00:00, 959.62it/s] \n",
      "Depth=12, working on node 13: 100%|██████████| 14/14 [00:00<00:00, 608.77it/s] \n",
      "Depth=12, working on node 13: 100%|██████████| 14/14 [00:00<00:00, 1095.38it/s]\n",
      "Depth=12, working on node 13: 100%|██████████| 14/14 [00:00<00:00, 823.65it/s] \n",
      "Depth=12, working on node 13: 100%|██████████| 14/14 [00:00<00:00, 981.71it/s] \n",
      "Depth=12, working on node 13: 100%|██████████| 14/14 [00:00<00:00, 1048.31it/s]\n",
      "Depth=12, working on node 13: 100%|██████████| 14/14 [00:00<00:00, 1048.89it/s]\n",
      "Depth=12, working on node 13: 100%|██████████| 14/14 [00:00<00:00, 1000.09it/s]\n",
      "Depth=12, working on node 13: 100%|██████████| 14/14 [00:00<00:00, 965.65it/s] \n",
      "Depth=12, working on node 13: 100%|██████████| 14/14 [00:00<00:00, 1400.03it/s]\n",
      "Depth=12, working on node 13: 100%|██████████| 14/14 [00:00<00:00, 1272.54it/s]\n",
      "Depth=12, working on node 13: 100%|██████████| 14/14 [00:00<00:00, 1032.35it/s]\n",
      "Depth=12, working on node 13: 100%|██████████| 14/14 [00:00<00:00, 994.77it/s] \n",
      "Depth=12, working on node 13: 100%|██████████| 14/14 [00:00<00:00, 1076.70it/s]\n",
      "Depth=12, working on node 13: 100%|██████████| 14/14 [00:00<00:00, 963.83it/s] \n",
      "Depth=12, working on node 13: 100%|██████████| 14/14 [00:00<00:00, 1000.14it/s]\n",
      "Depth=12, working on node 13: 100%|██████████| 14/14 [00:00<00:00, 1077.12it/s]\n",
      "Depth=12, working on node 13: 100%|██████████| 14/14 [00:00<00:00, 1274.70it/s]\n",
      "Depth=12, working on node 13: 100%|██████████| 14/14 [00:00<00:00, 1418.98it/s]\n",
      "Depth=12, working on node 13: 100%|██████████| 14/14 [00:00<00:00, 1166.33it/s]\n",
      "Depth=12, working on node 13: 100%|██████████| 14/14 [00:00<00:00, 1166.89it/s]\n",
      "Depth=12, working on node 13: 100%|██████████| 14/14 [00:00<00:00, 1555.71it/s]\n",
      "Depth=12, working on node 13: 100%|██████████| 14/14 [00:00<00:00, 1272.54it/s]\n",
      "Depth=12, working on node 13: 100%|██████████| 14/14 [00:00<00:00, 1073.20it/s]\n",
      "Depth=12, working on node 13: 100%|██████████| 14/14 [00:00<00:00, 1076.57it/s]\n",
      "Depth=12, working on node 13: 100%|██████████| 14/14 [00:00<00:00, 999.70it/s] \n",
      "Depth=12, working on node 13: 100%|██████████| 14/14 [00:00<00:00, 1076.27it/s]\n",
      "Depth=12, working on node 13: 100%|██████████| 14/14 [00:00<00:00, 1174.41it/s]\n",
      "Depth=12, working on node 13: 100%|██████████| 14/14 [00:00<00:00, 1008.23it/s]\n",
      "Depth=12, working on node 13: 100%|██████████| 14/14 [00:00<00:00, 1076.98it/s]\n",
      "Depth=12, working on node 13: 100%|██████████| 14/14 [00:00<00:00, 1117.06it/s]\n",
      "Depth=12, working on node 13: 100%|██████████| 14/14 [00:00<00:00, 1400.20it/s]\n",
      "Depth=12, working on node 13: 100%|██████████| 14/14 [00:00<00:00, 1566.12it/s]\n",
      "Depth=12, working on node 13: 100%|██████████| 14/14 [00:00<00:00, 933.73it/s] \n",
      "Depth=12, working on node 13: 100%|██████████| 14/14 [00:00<00:00, 1163.19it/s]\n",
      "Depth=12, working on node 13: 100%|██████████| 14/14 [00:00<00:00, 999.53it/s] \n",
      "Depth=12, working on node 13: 100%|██████████| 14/14 [00:00<00:00, 1164.60it/s]\n",
      "Depth=12, working on node 13: 100%|██████████| 14/14 [00:00<00:00, 568.50it/s]\n",
      "Depth=12, working on node 13: 100%|██████████| 14/14 [00:00<00:00, 1067.66it/s]\n",
      "Depth=12, working on node 13: 100%|██████████| 14/14 [00:00<00:00, 1166.84it/s]\n",
      "Depth=12, working on node 13: 100%|██████████| 14/14 [00:00<00:00, 1269.13it/s]\n",
      "Depth=12, working on node 13: 100%|██████████| 14/14 [00:00<00:00, 1272.74it/s]\n",
      "Depth=12, working on node 13: 100%|██████████| 14/14 [00:00<00:00, 1076.65it/s]\n",
      "Depth=12, working on node 13: 100%|██████████| 14/14 [00:00<00:00, 874.84it/s] \n",
      "Depth=12, working on node 13: 100%|██████████| 14/14 [00:00<00:00, 856.67it/s]\n",
      "Depth=12, working on node 13: 100%|██████████| 14/14 [00:00<00:00, 1167.24it/s]\n",
      "Depth=12, working on node 13: 100%|██████████| 14/14 [00:00<00:00, 1554.84it/s]\n",
      "Depth=12, working on node 13: 100%|██████████| 14/14 [00:00<00:00, 756.03it/s]\n",
      "Depth=12, working on node 13: 100%|██████████| 14/14 [00:00<00:00, 1000.12it/s]\n",
      "Depth=12, working on node 13: 100%|██████████| 14/14 [00:00<00:00, 650.09it/s]\n",
      "Depth=12, working on node 13: 100%|██████████| 14/14 [00:00<00:00, 287.13it/s] \n",
      "Depth=12, working on node 13: 100%|██████████| 14/14 [00:00<00:00, 1034.43it/s]\n",
      "Depth=12, working on node 13: 100%|██████████| 14/14 [00:00<00:00, 656.24it/s]\n",
      "Depth=12, working on node 13: 100%|██████████| 14/14 [00:00<00:00, 999.65it/s] \n",
      "Depth=12, working on node 13: 100%|██████████| 14/14 [00:00<00:00, 1000.06it/s]\n",
      "Depth=12, working on node 13: 100%|██████████| 14/14 [00:00<00:00, 1272.71it/s]\n",
      "Depth=12, working on node 13: 100%|██████████| 14/14 [00:00<00:00, 1076.39it/s]\n",
      "Depth=12, working on node 13: 100%|██████████| 14/14 [00:00<00:00, 1166.59it/s]\n",
      "Depth=12, working on node 13: 100%|██████████| 14/14 [00:00<00:00, 1076.78it/s]\n",
      "Depth=12, working on node 13: 100%|██████████| 14/14 [00:00<00:00, 1226.56it/s]\n",
      "Depth=12, working on node 13: 100%|██████████| 14/14 [00:00<00:00, 1076.88it/s]\n",
      "Depth=12, working on node 13: 100%|██████████| 14/14 [00:00<00:00, 1076.94it/s]\n",
      "Depth=12, working on node 13: 100%|██████████| 14/14 [00:00<00:00, 935.26it/s] \n",
      "Depth=12, working on node 13: 100%|██████████| 14/14 [00:00<00:00, 1271.11it/s]\n",
      "Depth=12, working on node 13: 100%|██████████| 14/14 [00:00<00:00, 1411.17it/s]\n",
      "Depth=12, working on node 13: 100%|██████████| 14/14 [00:00<00:00, 1168.42it/s]\n",
      "Depth=12, working on node 13: 100%|██████████| 14/14 [00:00<00:00, 1166.36it/s]\n",
      "Depth=12, working on node 13: 100%|██████████| 14/14 [00:00<00:00, 1166.96it/s]\n",
      "Depth=12, working on node 13: 100%|██████████| 14/14 [00:00<00:00, 1272.87it/s]\n",
      "Depth=12, working on node 13: 100%|██████████| 14/14 [00:00<00:00, 1272.96it/s]\n",
      "Depth=12, working on node 13: 100%|██████████| 14/14 [00:00<00:00, 518.25it/s]\n",
      "Depth=12, working on node 13: 100%|██████████| 14/14 [00:00<00:00, 490.83it/s]\n",
      "Depth=12, working on node 13: 100%|██████████| 14/14 [00:00<00:00, 1166.77it/s]\n",
      "Depth=12, working on node 13: 100%|██████████| 14/14 [00:00<00:00, 1271.28it/s]\n",
      "Depth=12, working on node 13: 100%|██████████| 14/14 [00:00<00:00, 1165.04it/s]\n",
      "Depth=12, working on node 13: 100%|██████████| 14/14 [00:00<00:00, 1299.38it/s]\n",
      "Depth=12, working on node 13: 100%|██████████| 14/14 [00:00<00:00, 925.78it/s] \n",
      "Depth=12, working on node 13: 100%|██████████| 14/14 [00:00<00:00, 1330.77it/s]\n",
      "Depth=12, working on node 13: 100%|██████████| 14/14 [00:00<00:00, 874.95it/s]\n",
      "Depth=12, working on node 13: 100%|██████████| 14/14 [00:00<00:00, 1271.72it/s]\n"
     ]
    },
    {
     "name": "stdout",
     "output_type": "stream",
     "text": [
      "\n",
      "Top edges across bootstraps (PC algorithm):\n",
      "============================================================\n",
      "Node1           Node2           End1       End2       Count     \n",
      "------------------------------------------------------------\n",
      "X1              X5              ARROW      TAIL       100       \n",
      "X1              X6              ARROW      TAIL       100       \n",
      "X1              X10             TAIL       ARROW      100       \n",
      "X10             X2              ARROW      TAIL       100       \n",
      "X3              X4              ARROW      TAIL       100       \n",
      "X3              X5              ARROW      TAIL       100       \n",
      "X3              X6              ARROW      TAIL       100       \n",
      "X3              X9              ARROW      TAIL       100       \n",
      "X10             X3              ARROW      TAIL       100       \n",
      "X4              X5              ARROW      TAIL       100       \n",
      "X10             X4              ARROW      TAIL       100       \n",
      "X10             X5              ARROW      TAIL       100       \n",
      "X10             X6              ARROW      TAIL       100       \n",
      "X10             X7              ARROW      TAIL       100       \n",
      "X10             X8              ARROW      TAIL       100       \n",
      "X10             X9              ARROW      TAIL       100       \n",
      "X10             X11             ARROW      TAIL       100       \n",
      "X10             X12             ARROW      TAIL       100       \n",
      "X10             X13             ARROW      TAIL       100       \n",
      "X10             X14             ARROW      TAIL       100       \n",
      "X1              X13             ARROW      TAIL       99        \n",
      "X13             X3              TAIL       ARROW      99        \n",
      "X2              X5              ARROW      TAIL       98        \n",
      "X2              X7              ARROW      TAIL       98        \n",
      "X4              X6              ARROW      TAIL       98        \n",
      "X7              X9              ARROW      TAIL       98        \n",
      "X2              X6              ARROW      TAIL       96        \n",
      "X1              X4              ARROW      TAIL       96        \n",
      "X12             X3              TAIL       ARROW      95        \n",
      "X11             X9              ARROW      TAIL       95        \n",
      "X11             X14             ARROW      TAIL       95        \n",
      "X1              X2              ARROW      TAIL       94        \n",
      "X14             X7              TAIL       ARROW      94        \n",
      "X4              X7              ARROW      TAIL       93        \n",
      "X14             X6              ARROW      TAIL       93        \n",
      "X12             X2              TAIL       ARROW      92        \n",
      "X12             X9              ARROW      TAIL       92        \n",
      "X14             X5              ARROW      TAIL       91        \n",
      "X11             X3              TAIL       ARROW      90        \n",
      "X1              X14             ARROW      TAIL       89        \n",
      "X2              X3              ARROW      TAIL       89        \n",
      "X12             X13             ARROW      TAIL       88        \n",
      "X13             X14             TAIL       ARROW      88        \n",
      "X12             X4              TAIL       ARROW      86        \n",
      "X13             X8              TAIL       ARROW      85        \n",
      "X12             X14             ARROW      TAIL       84        \n",
      "X14             X8              TAIL       ARROW      79        \n",
      "X1              X12             ARROW      TAIL       77        \n",
      "X6              X7              ARROW      TAIL       76        \n",
      "X12             X6              TAIL       ARROW      76        \n",
      "X2              X4              ARROW      TAIL       75        \n",
      "X8              X9              ARROW      TAIL       73        \n",
      "X14             X3              TAIL       ARROW      71        \n",
      "X12             X8              TAIL       ARROW      71        \n",
      "X13             X2              TAIL       ARROW      70        \n",
      "X4              X8              ARROW      TAIL       70        \n",
      "X11             X13             ARROW      TAIL       68        \n",
      "X14             X4              ARROW      TAIL       67        \n",
      "X13             X7              TAIL       ARROW      67        \n",
      "X11             X8              TAIL       ARROW      63        \n",
      "X7              X8              TAIL       ARROW      62        \n",
      "X11             X4              TAIL       ARROW      55        \n",
      "X11             X12             TAIL       ARROW      51        \n",
      "X7              X8              ARROW      TAIL       38        \n",
      "X2              X8              ARROW      TAIL       31        \n",
      "X6              X8              TAIL       ARROW      30        \n",
      "X11             X12             TAIL       TAIL       30        \n",
      "X1              X8              ARROW      TAIL       28        \n",
      "X14             X4              TAIL       ARROW      27        \n",
      "X2              X4              TAIL       ARROW      25        \n",
      "X5              X7              TAIL       ARROW      23        \n",
      "X13             X6              ARROW      TAIL       22        \n",
      "X12             X6              ARROW      TAIL       22        \n",
      "X11             X8              TAIL       TAIL       21        \n",
      "X12             X8              ARROW      TAIL       19        \n",
      "X11             X13             TAIL       ARROW      16        \n",
      "X13             X6              TAIL       ARROW      16        \n",
      "X11             X8              ARROW      TAIL       16        \n",
      "X11             X12             ARROW      TAIL       14        \n",
      "X13             X8              ARROW      TAIL       12        \n",
      "X5              X8              TAIL       ARROW      12        \n",
      "X13             X5              TAIL       TAIL       12        \n",
      "X13             X5              ARROW      TAIL       11        \n",
      "X14             X8              ARROW      TAIL       11        \n",
      "X2              X3              TAIL       ARROW      11        \n",
      "X14             X8              TAIL       TAIL       10        \n",
      "X12             X13             TAIL       ARROW      10        \n",
      "X12             X14             TAIL       ARROW      9         \n",
      "X12             X8              TAIL       TAIL       9         \n",
      "X12             X5              ARROW      TAIL       9         \n",
      "X13             X7              ARROW      TAIL       8         \n",
      "X2              X9              ARROW      TAIL       8         \n",
      "X4              X7              TAIL       ARROW      7         \n",
      "X12             X9              TAIL       ARROW      7         \n",
      "X14             X5              TAIL       ARROW      7         \n",
      "X13             X14             TAIL       TAIL       6         \n",
      "X1              X12             TAIL       ARROW      6         \n",
      "X13             X14             ARROW      TAIL       6         \n",
      "X1              X2              TAIL       ARROW      6         \n",
      "X11             X9              TAIL       ARROW      5         \n",
      "X11             X14             TAIL       ARROW      5         \n",
      "X14             X7              ARROW      TAIL       5         \n",
      "X12             X3              ARROW      TAIL       5         \n",
      "X14             X6              TAIL       ARROW      5         \n",
      "X5              X9              ARROW      TAIL       5         \n",
      "X1              X9              ARROW      TAIL       4         \n",
      "X2              X6              TAIL       ARROW      4         \n",
      "X11             X6              TAIL       ARROW      4         \n",
      "X5              X7              ARROW      TAIL       3         \n",
      "X12             X5              TAIL       ARROW      3         \n",
      "X13             X5              TAIL       ARROW      3         \n",
      "X13             X8              TAIL       TAIL       3         \n",
      "X13             X6              TAIL       TAIL       3         \n",
      "X2              X7              TAIL       ARROW      2         \n",
      "X4              X8              TAIL       ARROW      2         \n",
      "X2              X5              TAIL       ARROW      2         \n",
      "X4              X6              TAIL       ARROW      2         \n",
      "X6              X8              ARROW      TAIL       2         \n",
      "X14             X5              TAIL       TAIL       2         \n",
      "X12             X6              TAIL       TAIL       2         \n",
      "X14             X6              TAIL       TAIL       2         \n",
      "X7              X9              TAIL       ARROW      2         \n",
      "X12             X13             TAIL       TAIL       2         \n",
      "X11             X6              TAIL       TAIL       1         \n",
      "X11             X13             TAIL       TAIL       1         \n",
      "X1              X8              TAIL       ARROW      1         \n",
      "X2              X8              TAIL       ARROW      1         \n",
      "X12             X2              ARROW      TAIL       1         \n",
      "X13             X3              ARROW      TAIL       1         \n",
      "X12             X4              ARROW      TAIL       1         \n",
      "X11             X4              ARROW      TAIL       1         \n",
      "X11             X5              TAIL       ARROW      1         \n",
      "X14             X7              TAIL       TAIL       1         \n",
      "X11             X6              ARROW      TAIL       1         \n",
      "X1              X13             TAIL       ARROW      1         \n",
      "X12             X9              TAIL       TAIL       1         \n",
      "X13             X4              TAIL       ARROW      1         \n"
     ]
    }
   ],
   "source": [
    "\n",
    "# Number of bootstrap samples\n",
    "n_bootstrap_samples = 100\n",
    "\n",
    "# Collect edges across bootstraps\n",
    "edge_counts = defaultdict(int)\n",
    "\n",
    "for _ in range(n_bootstrap_samples):\n",
    "    # Bootstrap sample\n",
    "    bootstrap_sample = resample(data_duration, replace=True, random_state=np.random.randint(0, 10000))\n",
    "\n",
    "    # Apply PC algorithm - returns a CausalGraph object\n",
    "    cpdag = pc(bootstrap_sample.to_numpy(), alpha=0.05, indep_test='fisherz')\n",
    "\n",
    "    # Correct way to extract edges from CausalGraph\n",
    "    graph = cpdag.G  # This gives us the GeneralGraph object\n",
    "    edges = graph.get_graph_edges()  # This gets all edges in the graph\n",
    "\n",
    "    for edge in edges:\n",
    "        node1 = edge.node1\n",
    "        node2 = edge.node2\n",
    "        # Convert endpoints to string representations\n",
    "        endpoint1 = edge.endpoint1.name\n",
    "        endpoint2 = edge.endpoint2.name\n",
    "\n",
    "        # Create a sorted key to avoid counting A->B and B->A as different\n",
    "        if node1.get_name() < node2.get_name():\n",
    "            key = (node1.get_name(), node2.get_name(), endpoint1, endpoint2)\n",
    "        else:\n",
    "            key = (node2.get_name(), node1.get_name(), endpoint2, endpoint1)\n",
    "            \n",
    "        edge_counts[key] += 1\n",
    "\n",
    "# Print the top edges\n",
    "print(\"\\nTop edges across bootstraps (PC algorithm):\")\n",
    "print(\"=\" * 60)\n",
    "print(\"{:<15} {:<15} {:<10} {:<10} {:<10}\".format(\"Node1\", \"Node2\", \"End1\", \"End2\", \"Count\"))\n",
    "print(\"-\" * 60)\n",
    "for edge, count in sorted(edge_counts.items(), key=lambda x: x[1], reverse=True):\n",
    "    node1, node2, end1, end2 = edge\n",
    "    print(\"{:<15} {:<15} {:<10} {:<10} {:<10}\".format(node1, node2, end1, end2, count))"
   ]
  }
 ],
 "metadata": {
  "kernelspec": {
   "display_name": "Python 3",
   "language": "python",
   "name": "python3"
  },
  "language_info": {
   "codemirror_mode": {
    "name": "ipython",
    "version": 3
   },
   "file_extension": ".py",
   "mimetype": "text/x-python",
   "name": "python",
   "nbconvert_exporter": "python",
   "pygments_lexer": "ipython3",
   "version": "3.11.9"
  }
 },
 "nbformat": 4,
 "nbformat_minor": 5
}
